{
 "cells": [
  {
   "cell_type": "markdown",
   "id": "555ce542",
   "metadata": {},
   "source": [
    "# EDA\n",
    "\n",
    "подключаемся к базе данных"
   ]
  },
  {
   "cell_type": "code",
   "execution_count": 5,
   "id": "76f7c789",
   "metadata": {},
   "outputs": [
    {
     "data": {
      "text/html": [
       "<div>\n",
       "<style scoped>\n",
       "    .dataframe tbody tr th:only-of-type {\n",
       "        vertical-align: middle;\n",
       "    }\n",
       "\n",
       "    .dataframe tbody tr th {\n",
       "        vertical-align: top;\n",
       "    }\n",
       "\n",
       "    .dataframe thead th {\n",
       "        text-align: right;\n",
       "    }\n",
       "</style>\n",
       "<table border=\"1\" class=\"dataframe\">\n",
       "  <thead>\n",
       "    <tr style=\"text-align: right;\">\n",
       "      <th></th>\n",
       "      <th>table_name</th>\n",
       "    </tr>\n",
       "  </thead>\n",
       "  <tbody>\n",
       "    <tr>\n",
       "      <th>0</th>\n",
       "      <td>tg_messages</td>\n",
       "    </tr>\n",
       "  </tbody>\n",
       "</table>\n",
       "</div>"
      ],
      "text/plain": [
       "    table_name\n",
       "0  tg_messages"
      ]
     },
     "execution_count": 5,
     "metadata": {},
     "output_type": "execute_result"
    }
   ],
   "source": [
    "import logging\n",
    "import os\n",
    "\n",
    "import sqlite3\n",
    "import pandas as pd\n",
    "\n",
    "logging.basicConfig(\n",
    "    level=logging.INFO,\n",
    "    format=\"%(asctime)s %(message)s\",\n",
    "    handlers=[\n",
    "        logging.StreamHandler()\n",
    "    ]\n",
    ")\n",
    "logger = logging.getLogger(__name__)\n",
    "logger.setLevel('INFO')\n",
    "\n",
    "db_file = '/srv/data/messages.db'\n",
    "\n",
    "conn = sqlite3.connect(db_file, check_same_thread=True)\n",
    "\n",
    "def run_sql(sql_str, db_con=conn, cols = None):\n",
    "    with db_con as con:\n",
    "        res = pd.DataFrame(con.execute(sql_str).fetchall(), columns=cols)\n",
    "    return res\n",
    "        \n",
    "sql_str = \"\"\"\n",
    "    SELECT \n",
    "        name\n",
    "    FROM \n",
    "        sqlite_master\n",
    "    WHERE \n",
    "        name NOT LIKE 'sqlite_%';\n",
    "\"\"\"\n",
    "run_sql(sql_str, cols=['table_name'])"
   ]
  },
  {
   "cell_type": "markdown",
   "id": "ae445036",
   "metadata": {},
   "source": [
    "Пример содержимого таблички с данными"
   ]
  },
  {
   "cell_type": "code",
   "execution_count": 6,
   "id": "2aa0bab0",
   "metadata": {},
   "outputs": [
    {
     "data": {
      "text/html": [
       "<div>\n",
       "<style scoped>\n",
       "    .dataframe tbody tr th:only-of-type {\n",
       "        vertical-align: middle;\n",
       "    }\n",
       "\n",
       "    .dataframe tbody tr th {\n",
       "        vertical-align: top;\n",
       "    }\n",
       "\n",
       "    .dataframe thead th {\n",
       "        text-align: right;\n",
       "    }\n",
       "</style>\n",
       "<table border=\"1\" class=\"dataframe\">\n",
       "  <thead>\n",
       "    <tr style=\"text-align: right;\">\n",
       "      <th></th>\n",
       "      <th>id</th>\n",
       "      <th>msg</th>\n",
       "      <th>channel</th>\n",
       "      <th>msg_hash</th>\n",
       "    </tr>\n",
       "  </thead>\n",
       "  <tbody>\n",
       "    <tr>\n",
       "      <th>0</th>\n",
       "      <td>2248</td>\n",
       "      <td>управляющая компания предлагает в аренду 1 одн...</td>\n",
       "      <td>rentinlimassol</td>\n",
       "      <td>314c320246f78c0db8ddb8489072f7ab</td>\n",
       "    </tr>\n",
       "    <tr>\n",
       "      <th>1</th>\n",
       "      <td>2246</td>\n",
       "      <td>управляющая компания предлагает в аренду целое...</td>\n",
       "      <td>rentinlimassol</td>\n",
       "      <td>6f3d312ef2c7f712ba0f761556492df0</td>\n",
       "    </tr>\n",
       "    <tr>\n",
       "      <th>2</th>\n",
       "      <td>2238</td>\n",
       "      <td>управляющая компания предлагает в аренду роско...</td>\n",
       "      <td>rentinlimassol</td>\n",
       "      <td>cb3cb9c0da0195b069392b849003d84f</td>\n",
       "    </tr>\n",
       "    <tr>\n",
       "      <th>3</th>\n",
       "      <td>2232</td>\n",
       "      <td>управляющая компания предлагает в аренду совре...</td>\n",
       "      <td>rentinlimassol</td>\n",
       "      <td>3f29b9e54210ea6c4ea3cafb27d04a9b</td>\n",
       "    </tr>\n",
       "    <tr>\n",
       "      <th>4</th>\n",
       "      <td>2224</td>\n",
       "      <td>управляющая компания предлагает в аренду роско...</td>\n",
       "      <td>rentinlimassol</td>\n",
       "      <td>2c697381b6caac91e7b684fa34b86025</td>\n",
       "    </tr>\n",
       "  </tbody>\n",
       "</table>\n",
       "</div>"
      ],
      "text/plain": [
       "     id                                                msg         channel  \\\n",
       "0  2248  управляющая компания предлагает в аренду 1 одн...  rentinlimassol   \n",
       "1  2246  управляющая компания предлагает в аренду целое...  rentinlimassol   \n",
       "2  2238  управляющая компания предлагает в аренду роско...  rentinlimassol   \n",
       "3  2232  управляющая компания предлагает в аренду совре...  rentinlimassol   \n",
       "4  2224  управляющая компания предлагает в аренду роско...  rentinlimassol   \n",
       "\n",
       "                           msg_hash  \n",
       "0  314c320246f78c0db8ddb8489072f7ab  \n",
       "1  6f3d312ef2c7f712ba0f761556492df0  \n",
       "2  cb3cb9c0da0195b069392b849003d84f  \n",
       "3  3f29b9e54210ea6c4ea3cafb27d04a9b  \n",
       "4  2c697381b6caac91e7b684fa34b86025  "
      ]
     },
     "execution_count": 6,
     "metadata": {},
     "output_type": "execute_result"
    }
   ],
   "source": [
    "TABLE_NAME = 'tg_messages'\n",
    "\n",
    "table_df = pd.read_sql_query(f\"SELECT * from {TABLE_NAME} LIMIT 10\", conn)\n",
    "\n",
    "table_df.head()"
   ]
  },
  {
   "cell_type": "markdown",
   "id": "fb0efa62",
   "metadata": {},
   "source": [
    "Базовая статистика - сколько сообщений в табличке"
   ]
  },
  {
   "cell_type": "code",
   "execution_count": 7,
   "id": "f26b4b29",
   "metadata": {},
   "outputs": [
    {
     "data": {
      "text/html": [
       "<div>\n",
       "<style scoped>\n",
       "    .dataframe tbody tr th:only-of-type {\n",
       "        vertical-align: middle;\n",
       "    }\n",
       "\n",
       "    .dataframe tbody tr th {\n",
       "        vertical-align: top;\n",
       "    }\n",
       "\n",
       "    .dataframe thead th {\n",
       "        text-align: right;\n",
       "    }\n",
       "</style>\n",
       "<table border=\"1\" class=\"dataframe\">\n",
       "  <thead>\n",
       "    <tr style=\"text-align: right;\">\n",
       "      <th></th>\n",
       "      <th>num_messages</th>\n",
       "      <th>avg_length</th>\n",
       "      <th>num_channels</th>\n",
       "    </tr>\n",
       "  </thead>\n",
       "  <tbody>\n",
       "    <tr>\n",
       "      <th>0</th>\n",
       "      <td>27037</td>\n",
       "      <td>324</td>\n",
       "      <td>6</td>\n",
       "    </tr>\n",
       "  </tbody>\n",
       "</table>\n",
       "</div>"
      ],
      "text/plain": [
       "   num_messages  avg_length  num_channels\n",
       "0         27037         324             6"
      ]
     },
     "execution_count": 7,
     "metadata": {},
     "output_type": "execute_result"
    }
   ],
   "source": [
    "sql_str = f\"\"\"\n",
    "    SELECT\n",
    "        COUNT(*) as num_messages,\n",
    "        CAST(AVG(length(msg))  as integer) as avg_length,\n",
    "        COUNT(DISTINCT channel) num_channels\n",
    "    FROM {TABLE_NAME}\n",
    "    LIMIT 10\n",
    "\"\"\"\n",
    "\n",
    "pd.read_sql_query(sql_str, conn)"
   ]
  },
  {
   "cell_type": "markdown",
   "id": "27ad042b",
   "metadata": {},
   "source": [
    "Далее в канале ищем \"плохие\" сообщения"
   ]
  },
  {
   "cell_type": "code",
   "execution_count": 12,
   "id": "3415b933",
   "metadata": {},
   "outputs": [
    {
     "name": "stderr",
     "output_type": "stream",
     "text": [
      "2022-12-12 17:40:57,523 num rows: 16\n"
     ]
    },
    {
     "data": {
      "text/html": [
       "<div>\n",
       "<style scoped>\n",
       "    .dataframe tbody tr th:only-of-type {\n",
       "        vertical-align: middle;\n",
       "    }\n",
       "\n",
       "    .dataframe tbody tr th {\n",
       "        vertical-align: top;\n",
       "    }\n",
       "\n",
       "    .dataframe thead th {\n",
       "        text-align: right;\n",
       "    }\n",
       "</style>\n",
       "<table border=\"1\" class=\"dataframe\">\n",
       "  <thead>\n",
       "    <tr style=\"text-align: right;\">\n",
       "      <th></th>\n",
       "      <th>id</th>\n",
       "      <th>msg</th>\n",
       "    </tr>\n",
       "  </thead>\n",
       "  <tbody>\n",
       "    <tr>\n",
       "      <th>0</th>\n",
       "      <td>129161</td>\n",
       "      <td>продажа (собственник) лимассол   580 000 евро ...</td>\n",
       "    </tr>\n",
       "    <tr>\n",
       "      <th>1</th>\n",
       "      <td>129139</td>\n",
       "      <td>аренда город ларнака . район декелия . дом три...</td>\n",
       "    </tr>\n",
       "    <tr>\n",
       "      <th>2</th>\n",
       "      <td>152740</td>\n",
       "      <td>продажа  продается новая квартира за €310,000 ...</td>\n",
       "    </tr>\n",
       "    <tr>\n",
       "      <th>3</th>\n",
       "      <td>152129</td>\n",
       "      <td>**mandarin park: новое высотное здание в лимас...</td>\n",
       "    </tr>\n",
       "    <tr>\n",
       "      <th>4</th>\n",
       "      <td>152159</td>\n",
       "      <td>**как получить визитерскую визу на кипре? инст...</td>\n",
       "    </tr>\n",
       "  </tbody>\n",
       "</table>\n",
       "</div>"
      ],
      "text/plain": [
       "       id                                                msg\n",
       "0  129161  продажа (собственник) лимассол   580 000 евро ...\n",
       "1  129139  аренда город ларнака . район декелия . дом три...\n",
       "2  152740  продажа  продается новая квартира за €310,000 ...\n",
       "3  152129  **mandarin park: новое высотное здание в лимас...\n",
       "4  152159  **как получить визитерскую визу на кипре? инст..."
      ]
     },
     "execution_count": 12,
     "metadata": {},
     "output_type": "execute_result"
    }
   ],
   "source": [
    "from jinja2 import Template\n",
    "\n",
    "def get_neg_samples_df():\n",
    "    irrelevant_msg_ids = [\n",
    "        153375, 130177, 152303, 156005, 152225, 152209, 152159, 152129,\n",
    "        152831, 152766, 152740, 152697, 129161, 129139, 152628, 152556\n",
    "    ]\n",
    "\n",
    "    sql_str = Template(\n",
    "        \"\"\"\n",
    "        SELECT \n",
    "            id, msg\n",
    "        FROM {{ table }}\n",
    "        WHERE id IN (\n",
    "            {%- for msg_id in msg_ids -%} {{msg_id}} {{\",\" if not loop.last }} {% endfor %}\n",
    "        )\n",
    "        \"\"\"\n",
    "    ).render(msg_ids=irrelevant_msg_ids, table=TABLE_NAME)\n",
    "\n",
    "    neg_samples_df = pd.read_sql_query(sql_str, conn)\n",
    "    num_neg_samples = neg_samples_df.shape[0]\n",
    "\n",
    "    logger.info('num rows: %d', num_neg_samples)\n",
    "    \n",
    "    return neg_samples_df\n",
    "\n",
    "neg_samples_df = get_neg_samples_df()\n",
    "neg_samples_df.head()"
   ]
  },
  {
   "cell_type": "markdown",
   "id": "1bbf9bfe",
   "metadata": {},
   "source": [
    "Получилось 16 негативных примеров - маловато, попробуем быстро создать разметку данных\n",
    "\n",
    "* векторизуем все примеры\n",
    "* отранжируем неразмеченные примеры по схожести с предварительно размеченными примерами"
   ]
  },
  {
   "cell_type": "code",
   "execution_count": 13,
   "id": "35fa31b1",
   "metadata": {},
   "outputs": [
    {
     "name": "stderr",
     "output_type": "stream",
     "text": [
      "2022-12-12 17:41:17,263 num rows: 16\n",
      "2022-12-12 17:41:17,288 num rows: 176\n",
      "2022-12-12 17:41:17,318 sparse matrix (176, 2390)\n"
     ]
    },
    {
     "data": {
      "text/html": [
       "<div>\n",
       "<style scoped>\n",
       "    .dataframe tbody tr th:only-of-type {\n",
       "        vertical-align: middle;\n",
       "    }\n",
       "\n",
       "    .dataframe tbody tr th {\n",
       "        vertical-align: top;\n",
       "    }\n",
       "\n",
       "    .dataframe thead th {\n",
       "        text-align: right;\n",
       "    }\n",
       "</style>\n",
       "<table border=\"1\" class=\"dataframe\">\n",
       "  <thead>\n",
       "    <tr style=\"text-align: right;\">\n",
       "      <th></th>\n",
       "      <th>msg</th>\n",
       "      <th>len_msg</th>\n",
       "      <th>target</th>\n",
       "    </tr>\n",
       "  </thead>\n",
       "  <tbody>\n",
       "    <tr>\n",
       "      <th>0</th>\n",
       "      <td>продажа (собственник) лимассол   580 000 евро ...</td>\n",
       "      <td>2009</td>\n",
       "      <td>1</td>\n",
       "    </tr>\n",
       "    <tr>\n",
       "      <th>1</th>\n",
       "      <td>аренда город ларнака . район декелия . дом три...</td>\n",
       "      <td>140</td>\n",
       "      <td>1</td>\n",
       "    </tr>\n",
       "    <tr>\n",
       "      <th>2</th>\n",
       "      <td>продажа  продается новая квартира за €310,000 ...</td>\n",
       "      <td>588</td>\n",
       "      <td>1</td>\n",
       "    </tr>\n",
       "    <tr>\n",
       "      <th>3</th>\n",
       "      <td>**mandarin park: новое высотное здание в лимас...</td>\n",
       "      <td>197</td>\n",
       "      <td>1</td>\n",
       "    </tr>\n",
       "    <tr>\n",
       "      <th>4</th>\n",
       "      <td>**как получить визитерскую визу на кипре? инст...</td>\n",
       "      <td>99</td>\n",
       "      <td>1</td>\n",
       "    </tr>\n",
       "  </tbody>\n",
       "</table>\n",
       "</div>"
      ],
      "text/plain": [
       "                                                 msg  len_msg  target\n",
       "0  продажа (собственник) лимассол   580 000 евро ...     2009       1\n",
       "1  аренда город ларнака . район декелия . дом три...      140       1\n",
       "2  продажа  продается новая квартира за €310,000 ...      588       1\n",
       "3  **mandarin park: новое высотное здание в лимас...      197       1\n",
       "4  **как получить визитерскую визу на кипре? инст...       99       1"
      ]
     },
     "execution_count": 13,
     "metadata": {},
     "output_type": "execute_result"
    }
   ],
   "source": [
    "from sklearn.feature_extraction.text import TfidfVectorizer\n",
    "\n",
    "\n",
    "def get_train_set(limit = -1):\n",
    "    negatives_df = get_neg_samples_df()\n",
    "    if limit < 0:\n",
    "        num_negatives = negatives_df.shape[0]\n",
    "        num_positives = int( num_negatives / 0.1)\n",
    "        limit = num_positives + num_negatives\n",
    "    else:\n",
    "        limit = 8*10**3\n",
    "    irrelevant_msg_ids = negatives_df['id'].values.tolist()\n",
    "    sql_str = Template(\n",
    "        \"\"\"\n",
    "        SELECT \n",
    "            msg,\n",
    "            length(msg) as len_msg,\n",
    "            CASE\n",
    "                WHEN id IN (\n",
    "                        {%- for msg_id in msg_ids -%} {{msg_id}} {{\",\" if not loop.last }} {% endfor %}\n",
    "                    )\n",
    "                THEN 1\n",
    "                ELSE 0\n",
    "            END target\n",
    "        FROM {{ table }}\n",
    "        ORDER BY target DESC\n",
    "        LIMIT {{ limit }}\n",
    "        \"\"\"\n",
    "    ).render(msg_ids=irrelevant_msg_ids, table=TABLE_NAME, limit=limit)\n",
    "\n",
    "    corpus_df = pd.read_sql_query(sql_str, conn)\n",
    "    \n",
    "    return corpus_df\n",
    "\n",
    "class Pandas2CSR:\n",
    "    def __init__(self):\n",
    "        self.vectorizer = None\n",
    "        self.txt_col = None\n",
    "        self.anchor_elements = None\n",
    "    \n",
    "    def df_to_matrix(self, input_series):\n",
    "        res = input_series.values.reshape(-1).tolist()\n",
    "        \n",
    "        return res\n",
    "    \n",
    "    def fit(self, input_df, text_column='msg'):\n",
    "        csr_matrix_dataset = self.df_to_matrix(input_df[text_column])\n",
    "        self.txt_col = text_column\n",
    "        \n",
    "        logger.info('num rows: %d', len(csr_matrix_dataset))\n",
    "\n",
    "        self.vectorizer = TfidfVectorizer()\n",
    "        X = self.vectorizer.fit_transform(csr_matrix_dataset)\n",
    "        logger.info('sparse matrix %s', X.shape)\n",
    "        \n",
    "        return X\n",
    "    \n",
    "    def transform(self, input_df):\n",
    "        corpus = self.df_to_matrix(input_df[self.txt_col])\n",
    "        X = self.vectorizer.transform(corpus)\n",
    "        \n",
    "        logger.info('result matrix %s', X.shape)\n",
    "        \n",
    "        return X\n",
    "    \n",
    "    def generate_features(self, neg_samples_df):\n",
    "        # сохраняем якорные элементы\n",
    "        if self.anchor_elements is None:\n",
    "            self.anchor_elements = self.transform(neg_samples_df)\n",
    "        anchor_elems\n",
    "\n",
    "corpus_df = get_train_set()\n",
    "pandas2csr = Pandas2CSR()\n",
    "raw_matrix = pandas2csr.fit(corpus_df)\n",
    "\n",
    "corpus_df.head()"
   ]
  },
  {
   "cell_type": "code",
   "execution_count": 14,
   "id": "4202fb97",
   "metadata": {},
   "outputs": [
    {
     "name": "stderr",
     "output_type": "stream",
     "text": [
      "2022-12-12 17:41:20,756 result matrix (16, 2390)\n",
      "2022-12-12 17:41:20,762 (176, 16)\n"
     ]
    }
   ],
   "source": [
    "from sklearn.metrics.pairwise import euclidean_distances\n",
    "\n",
    "neg_samples_csr = pandas2csr.transform(neg_samples_df)\n",
    "\n",
    "distances = euclidean_distances(raw_matrix, neg_samples_csr)\n",
    "logger.info(distances.shape)"
   ]
  },
  {
   "cell_type": "code",
   "execution_count": 15,
   "id": "d346d02c",
   "metadata": {},
   "outputs": [],
   "source": [
    "from sklearn.linear_model import LogisticRegression\n",
    "\n",
    "lr = LogisticRegression().fit(distances, corpus_df['target'])"
   ]
  },
  {
   "cell_type": "markdown",
   "id": "ee7f745d",
   "metadata": {},
   "source": [
    "Пробуем применить модель для быстрой разметки данных"
   ]
  },
  {
   "cell_type": "code",
   "execution_count": 16,
   "id": "4056b095",
   "metadata": {},
   "outputs": [
    {
     "name": "stderr",
     "output_type": "stream",
     "text": [
      "2022-12-12 17:41:24,826 num rows: 16\n",
      "2022-12-12 17:41:25,249 result matrix (8000, 2390)\n"
     ]
    }
   ],
   "source": [
    "corpus_df = get_train_set(limit=8*10**3)\n",
    "raw_matrix = pandas2csr.transform(corpus_df)\n",
    "distances = euclidean_distances(raw_matrix, neg_samples_csr)\n",
    "neg_example_proba = lr.predict_proba(distances)"
   ]
  },
  {
   "cell_type": "code",
   "execution_count": 17,
   "id": "e1f4b6f0",
   "metadata": {},
   "outputs": [
    {
     "data": {
      "text/html": [
       "<div>\n",
       "<style scoped>\n",
       "    .dataframe tbody tr th:only-of-type {\n",
       "        vertical-align: middle;\n",
       "    }\n",
       "\n",
       "    .dataframe tbody tr th {\n",
       "        vertical-align: top;\n",
       "    }\n",
       "\n",
       "    .dataframe thead th {\n",
       "        text-align: right;\n",
       "    }\n",
       "</style>\n",
       "<table border=\"1\" class=\"dataframe\">\n",
       "  <thead>\n",
       "    <tr style=\"text-align: right;\">\n",
       "      <th></th>\n",
       "      <th>msg</th>\n",
       "      <th>dummy_label</th>\n",
       "    </tr>\n",
       "  </thead>\n",
       "  <tbody>\n",
       "    <tr>\n",
       "      <th>6486</th>\n",
       "      <td>ахахахахаха</td>\n",
       "      <td>0.987632</td>\n",
       "    </tr>\n",
       "    <tr>\n",
       "      <th>7005</th>\n",
       "      <td>halo</td>\n",
       "      <td>0.987632</td>\n",
       "    </tr>\n",
       "    <tr>\n",
       "      <th>7643</th>\n",
       "      <td>έχω μια επαγγελματική πρόταση και είναι επείγουσα</td>\n",
       "      <td>0.987632</td>\n",
       "    </tr>\n",
       "    <tr>\n",
       "      <th>4266</th>\n",
       "      <td>вот я</td>\n",
       "      <td>0.987632</td>\n",
       "    </tr>\n",
       "    <tr>\n",
       "      <th>7070</th>\n",
       "      <td>вообще да, получали люди.</td>\n",
       "      <td>0.987632</td>\n",
       "    </tr>\n",
       "    <tr>\n",
       "      <th>...</th>\n",
       "      <td>...</td>\n",
       "      <td>...</td>\n",
       "    </tr>\n",
       "    <tr>\n",
       "      <th>269</th>\n",
       "      <td>кипр, встречай **интернет-магазин epl diamond**!   лучшие ювелирные изделия всемирного бренда теперь доступны к заказу он-лайн. покупайте ювелирные украшения на сайте [cy.epldiamond.com](http://cy.epldiamond.com/?utm_source=tgkipr_arenda) и получайте подарки!   приятные цены и летние скидки вас порадуют! доставка по городу лимассол бесплатная, по кипру бесплатная при сумме заказа от 300 евро.</td>\n",
       "      <td>0.146483</td>\n",
       "    </tr>\n",
       "    <tr>\n",
       "      <th>4894</th>\n",
       "      <td>******** ** [​](https://telegra.ph/file/0948a27872490e8a4a268.jpg)**#продажаземельногоучастка** **продаж** **зем**е**льного учаска** ———————— **#продажа**** **[**участка 12 000 ](https://telegra.ph/file/aece5c1a241defa34fa95.jpg)**[м²](https://telegra.ph/file/aece5c1a241defa34fa95.jpg)** **[**limassol](https://telegra.ph/file/aece5c1a241defa34fa95.jpg)******[**agios tychonas ](https://telegra.ph/file/aece5c1a241defa34fa95.jpg)** **стоимость 1**.**500 000 € **  **общая информация:**  **обьект **№ **id: 0101 • mika** **•** **• **продаётся земельный участок  с шикарным панорамным видом на море и город ,под инвестицию , в **агиос тихонас в **семи минутах от хайвей. **• **общая площадь [12 000 м²](https://telegra.ph/file/aece5c1a241defa34fa95.jpg) **•  **площадь застройки [**5](https://telegra.ph/file/aece5c1a241defa34fa95.jpg)** %   **• **дорога подведена к участку,а также рядом проведена электросеть,вся инфраструктура рядом развита.   эти участок может быть интересен тем кто желает ин...</td>\n",
       "      <td>0.146131</td>\n",
       "    </tr>\n",
       "    <tr>\n",
       "      <th>4625</th>\n",
       "      <td>[​](https://telegra.ph/file/8388ab0aff36200470150.jpg)[​](https://telegra.ph/file/89c0136e2c0d406fe7156.jpg)**#аренда**  ******   **аренд** **пентхауса   **  ———————— **аренда 3-х спального современного пентхауса **[**limassol](https://telegra.ph/file/aece5c1a241defa34fa95.jpg)******[**potamos germasoia ](https://telegra.ph/file/aece5c1a241defa34fa95.jpg)** **возле гостинцы аполлония   стоимость: 5.500 €** **( два депозит одна аренда при оплате вперед стоимость будет снижена до  5**.**000 € )**  **общая информация:**  **обьект **№ **id: 0305** **•sa•**  **• современный пентхаус в совершено новом красивом доме,на последнем этаже, в 150-200 метрах от моря. **             [**описание ](https://telegra.ph/file/aece5c1a241defa34fa95.jpg)****** **• общая крытая площадь **[**132 ](https://telegra.ph/file/aece5c1a241defa34fa95.jpg)**[м²](https://telegra.ph/file/aece5c1a241defa34fa95.jpg) **• kрытые веранды **[**39 ](https://telegra.ph/file/aece5c1a241defa34fa95.jpg)**[м²](https://telegra.p...</td>\n",
       "      <td>0.145923</td>\n",
       "    </tr>\n",
       "    <tr>\n",
       "      <th>53</th>\n",
       "      <td>**yoo limassol by philippe starck: эксклюзивный жилой комплекс в лимассоле** компания-застройщик презентовала свой новый проект. (фото) https://dom.com.cy/live/digest-56818/</td>\n",
       "      <td>0.145286</td>\n",
       "    </tr>\n",
       "    <tr>\n",
       "      <th>6047</th>\n",
       "      <td>**в каком районе ларнаки лучше покупать недвижимость для жизни, а в каком для сдачи в аренду? **кто-то делает выбор в пользу вида из окна, кто-то готов жить в историческом здании, украшенном винтажной мебелью, а кто-то хочет всего и сразу. https://dom.com.cy/live/blogs-57618/</td>\n",
       "      <td>0.145027</td>\n",
       "    </tr>\n",
       "  </tbody>\n",
       "</table>\n",
       "<p>270 rows × 2 columns</p>\n",
       "</div>"
      ],
      "text/plain": [
       "                                                                                                                                                                                                                                                                                                                                                                                                                                                                                                                                                                                                                                                                                                                                                                                                                                                                                                                                                                                                                                          msg  dummy_label\n",
       "6486                                                                                                                                                                                                                                                                                                                                                                                                                                                                                                                                                                                                                                                                                                                                                                                                                                                                                                                                                                                                                              ахахахахаха     0.987632\n",
       "7005                                                                                                                                                                                                                                                                                                                                                                                                                                                                                                                                                                                                                                                                                                                                                                                                                                                                                                                                                                                                                                     halo     0.987632\n",
       "7643                                                                                                                                                                                                                                                                                                                                                                                                                                                                                                                                                                                                                                                                                                                                                                                                                                                                                                                                                                                        έχω μια επαγγελματική πρόταση και είναι επείγουσα     0.987632\n",
       "4266                                                                                                                                                                                                                                                                                                                                                                                                                                                                                                                                                                                                                                                                                                                                                                                                                                                                                                                                                                                                                                    вот я     0.987632\n",
       "7070                                                                                                                                                                                                                                                                                                                                                                                                                                                                                                                                                                                                                                                                                                                                                                                                                                                                                                                                                                                                                вообще да, получали люди.     0.987632\n",
       "...                                                                                                                                                                                                                                                                                                                                                                                                                                                                                                                                                                                                                                                                                                                                                                                                                                                                                                                                                                                                                                       ...          ...\n",
       "269                                                                                                                                                                                                                                                                                                                                                                                                                                                                                                                                                                                                                               кипр, встречай **интернет-магазин epl diamond**!   лучшие ювелирные изделия всемирного бренда теперь доступны к заказу он-лайн. покупайте ювелирные украшения на сайте [cy.epldiamond.com](http://cy.epldiamond.com/?utm_source=tgkipr_arenda) и получайте подарки!   приятные цены и летние скидки вас порадуют! доставка по городу лимассол бесплатная, по кипру бесплатная при сумме заказа от 300 евро.     0.146483\n",
       "4894  ******** ** [​](https://telegra.ph/file/0948a27872490e8a4a268.jpg)**#продажаземельногоучастка** **продаж** **зем**е**льного учаска** ———————— **#продажа**** **[**участка 12 000 ](https://telegra.ph/file/aece5c1a241defa34fa95.jpg)**[м²](https://telegra.ph/file/aece5c1a241defa34fa95.jpg)** **[**limassol](https://telegra.ph/file/aece5c1a241defa34fa95.jpg)******[**agios tychonas ](https://telegra.ph/file/aece5c1a241defa34fa95.jpg)** **стоимость 1**.**500 000 € **  **общая информация:**  **обьект **№ **id: 0101 • mika** **•** **• **продаётся земельный участок  с шикарным панорамным видом на море и город ,под инвестицию , в **агиос тихонас в **семи минутах от хайвей. **• **общая площадь [12 000 м²](https://telegra.ph/file/aece5c1a241defa34fa95.jpg) **•  **площадь застройки [**5](https://telegra.ph/file/aece5c1a241defa34fa95.jpg)** %   **• **дорога подведена к участку,а также рядом проведена электросеть,вся инфраструктура рядом развита.   эти участок может быть интересен тем кто желает ин...     0.146131\n",
       "4625  [​](https://telegra.ph/file/8388ab0aff36200470150.jpg)[​](https://telegra.ph/file/89c0136e2c0d406fe7156.jpg)**#аренда**  ******   **аренд** **пентхауса   **  ———————— **аренда 3-х спального современного пентхауса **[**limassol](https://telegra.ph/file/aece5c1a241defa34fa95.jpg)******[**potamos germasoia ](https://telegra.ph/file/aece5c1a241defa34fa95.jpg)** **возле гостинцы аполлония   стоимость: 5.500 €** **( два депозит одна аренда при оплате вперед стоимость будет снижена до  5**.**000 € )**  **общая информация:**  **обьект **№ **id: 0305** **•sa•**  **• современный пентхаус в совершено новом красивом доме,на последнем этаже, в 150-200 метрах от моря. **             [**описание ](https://telegra.ph/file/aece5c1a241defa34fa95.jpg)****** **• общая крытая площадь **[**132 ](https://telegra.ph/file/aece5c1a241defa34fa95.jpg)**[м²](https://telegra.ph/file/aece5c1a241defa34fa95.jpg) **• kрытые веранды **[**39 ](https://telegra.ph/file/aece5c1a241defa34fa95.jpg)**[м²](https://telegra.p...     0.145923\n",
       "53                                                                                                                                                                                                                                                                                                                                                                                                                                                                                                                                                                                                                                                                                                                                                                                                                                                              **yoo limassol by philippe starck: эксклюзивный жилой комплекс в лимассоле** компания-застройщик презентовала свой новый проект. (фото) https://dom.com.cy/live/digest-56818/     0.145286\n",
       "6047                                                                                                                                                                                                                                                                                                                                                                                                                                                                                                                                                                                                                                                                                                                                                     **в каком районе ларнаки лучше покупать недвижимость для жизни, а в каком для сдачи в аренду? **кто-то делает выбор в пользу вида из окна, кто-то готов жить в историческом здании, украшенном винтажной мебелью, а кто-то хочет всего и сразу. https://dom.com.cy/live/blogs-57618/     0.145027\n",
       "\n",
       "[270 rows x 2 columns]"
      ]
     },
     "execution_count": 17,
     "metadata": {},
     "output_type": "execute_result"
    }
   ],
   "source": [
    "corpus_df['dummy_label'] = neg_example_proba[:,1]\n",
    "\n",
    "pd.set_option('display.max_colwidth', 1000)\n",
    "pd.set_option('display.expand_frame_repr', False)\n",
    "\n",
    "scored_corpus_df = (\n",
    "    corpus_df.query(\"len_msg > 0\")\n",
    "    [['msg', 'dummy_label']]\n",
    "    .sort_values(by='dummy_label', ascending=False)\n",
    ")\n",
    "\n",
    "scored_corpus_df.head(270)"
   ]
  },
  {
   "cell_type": "markdown",
   "id": "b455c3b9",
   "metadata": {},
   "source": [
    "Видно, что в топе по нашему скору совсем нерелевантные сообщения (на первых позициях)\n",
    "\n",
    "Ближе к концу списка сообщение `id=4625` уже релевантное\n",
    "\n",
    "Сохраняем датасет для LabelStudio"
   ]
  },
  {
   "cell_type": "code",
   "execution_count": 166,
   "id": "fb9c1460",
   "metadata": {},
   "outputs": [
    {
     "name": "stderr",
     "output_type": "stream",
     "text": [
      "INFO:__main__:6542 lines saved\n"
     ]
    }
   ],
   "source": [
    "scored_corpus_df.to_csv('/srv/data/scored_corpus.csv', index=False)\n",
    "logger.info('%d lines saved', scored_corpus_df.shape[0])"
   ]
  },
  {
   "cell_type": "markdown",
   "id": "d043a148",
   "metadata": {},
   "source": [
    "# Тренировка модели"
   ]
  },
  {
   "cell_type": "code",
   "execution_count": 51,
   "id": "781be6f2",
   "metadata": {},
   "outputs": [
    {
     "name": "stdout",
     "output_type": "stream",
     "text": [
      "5233 0.20045862793808522 1309 0.20091673032849502\n"
     ]
    },
    {
     "data": {
      "text/html": [
       "<div>\n",
       "<style scoped>\n",
       "    .dataframe tbody tr th:only-of-type {\n",
       "        vertical-align: middle;\n",
       "    }\n",
       "\n",
       "    .dataframe tbody tr th {\n",
       "        vertical-align: top;\n",
       "    }\n",
       "\n",
       "    .dataframe thead th {\n",
       "        text-align: right;\n",
       "    }\n",
       "</style>\n",
       "<table border=\"1\" class=\"dataframe\">\n",
       "  <thead>\n",
       "    <tr style=\"text-align: right;\">\n",
       "      <th></th>\n",
       "      <th>msg</th>\n",
       "      <th>label</th>\n",
       "      <th>subset</th>\n",
       "    </tr>\n",
       "  </thead>\n",
       "  <tbody>\n",
       "    <tr>\n",
       "      <th>0</th>\n",
       "      <td>здравствуйте. ишу 2х спальную квартиру в лимассоле. желательно гермасойя. семья из 2х взрослых и 2х детей. без животных. на длительный срок, бюджет до 1000-1500 евро. предложения в лс.</td>\n",
       "      <td>0</td>\n",
       "      <td>train</td>\n",
       "    </tr>\n",
       "    <tr>\n",
       "      <th>1</th>\n",
       "      <td>#сниму  комнату в лимассоле или недалеко от него. с начала августа. любые предложения в лс</td>\n",
       "      <td>0</td>\n",
       "      <td>train</td>\n",
       "    </tr>\n",
       "    <tr>\n",
       "      <th>2</th>\n",
       "      <td>мошенник риэлторским услугам.</td>\n",
       "      <td>0</td>\n",
       "      <td>train</td>\n",
       "    </tr>\n",
       "    <tr>\n",
       "      <th>3</th>\n",
       "      <td>**sales**    reg.1053 lic.489/e **stylish apartment with sea view  kissonerga. paphos** •total area: 85 m2  + balcony  •bedrooms:  2 •bathrooms: 1 **€ 120,000** we have a lot to offer  ================ **продажа**  reg.1053 lic.489/e **стильные апартаменты вид на море  •••kissonerga. пафос. ** •общая площадь: 85м2 + балкон •спальни: 2 •ванные комнаты: 1 **€ 120 000 ****+35726935826****  директ telegram 24/7** у нас есть что вам предложить</td>\n",
       "      <td>0</td>\n",
       "      <td>train</td>\n",
       "    </tr>\n",
       "    <tr>\n",
       "      <th>4</th>\n",
       "      <td>важно: [valerii korol](tg://user?id=193474890), если ты не бот и не спамер, пройди проверку, нажав на кнопку, где есть</td>\n",
       "      <td>0</td>\n",
       "      <td>train</td>\n",
       "    </tr>\n",
       "  </tbody>\n",
       "</table>\n",
       "</div>"
      ],
      "text/plain": [
       "                                                                                                                                                                                                                                                                                                                                                                                                                                                          msg  label subset\n",
       "0                                                                                                                                                                                                                                                                    здравствуйте. ишу 2х спальную квартиру в лимассоле. желательно гермасойя. семья из 2х взрослых и 2х детей. без животных. на длительный срок, бюджет до 1000-1500 евро. предложения в лс.      0  train\n",
       "1                                                                                                                                                                                                                                                                                                                                                                  #сниму  комнату в лимассоле или недалеко от него. с начала августа. любые предложения в лс      0  train\n",
       "2                                                                                                                                                                                                                                                                                                                                                                                                                               мошенник риэлторским услугам.      0  train\n",
       "3  **sales**    reg.1053 lic.489/e **stylish apartment with sea view  kissonerga. paphos** •total area: 85 m2  + balcony  •bedrooms:  2 •bathrooms: 1 **€ 120,000** we have a lot to offer  ================ **продажа**  reg.1053 lic.489/e **стильные апартаменты вид на море  •••kissonerga. пафос. ** •общая площадь: 85м2 + балкон •спальни: 2 •ванные комнаты: 1 **€ 120 000 ****+35726935826****  директ telegram 24/7** у нас есть что вам предложить      0  train\n",
       "4                                                                                                                                                                                                                                                                                                                                     важно: [valerii korol](tg://user?id=193474890), если ты не бот и не спамер, пройди проверку, нажав на кнопку, где есть       0  train"
      ]
     },
     "execution_count": 51,
     "metadata": {},
     "output_type": "execute_result"
    }
   ],
   "source": [
    "df = pd.read_csv('/srv/data/labeled_data_corpus.csv')\n",
    "\n",
    "train_df = df[df['subset'] == 'train']\n",
    "test_df = df[df['subset'] == 'test']\n",
    "print(train_df.shape[0], train_df['label'].mean(), test_df.shape[0], test_df['label'].mean())\n",
    "\n",
    "df.head()"
   ]
  },
  {
   "cell_type": "code",
   "execution_count": 60,
   "id": "176fdef8",
   "metadata": {},
   "outputs": [
    {
     "name": "stderr",
     "output_type": "stream",
     "text": [
      "2022-12-12 21:01:06,151 iteration: 0 of 1881; {'max_df': 0.01, 'min_df': 1}; best_score= 0.6173\n",
      "2022-12-12 21:03:26,644 iteration: 250 of 1881; {'max_df': 0.14, 'min_df': 4}; best_score= 0.8549\n",
      "2022-12-12 21:05:50,131 iteration: 500 of 1881; {'max_df': 0.27, 'min_df': 7}; best_score= 0.8611\n",
      "2022-12-12 21:08:15,245 iteration: 750 of 1881; {'max_df': 0.4, 'min_df': 10}; best_score= 0.8611\n",
      "2022-12-12 21:10:37,462 iteration: 1000 of 1881; {'max_df': 0.53, 'min_df': 13}; best_score= 0.8611\n",
      "2022-12-12 21:12:56,079 iteration: 1250 of 1881; {'max_df': 0.66, 'min_df': 16}; best_score= 0.8611\n",
      "2022-12-12 21:15:11,239 iteration: 1500 of 1881; {'max_df': 0.79, 'min_df': 19}; best_score= 0.8611\n",
      "2022-12-12 21:36:00,407 iteration: 1750 of 1881; {'max_df': 0.93, 'min_df': 3}; best_score= 0.8611\n"
     ]
    },
    {
     "name": "stdout",
     "output_type": "stream",
     "text": [
      "best params: %s, best_score %.4f {'max_df': 0.2, 'min_df': 18} 0.8610567514677103\n"
     ]
    }
   ],
   "source": [
    "from sklearn.feature_extraction.text import TfidfVectorizer\n",
    "from sklearn.linear_model import LogisticRegression\n",
    "from sklearn.metrics import f1_score\n",
    "\n",
    "import numpy as np\n",
    "from sklearn.model_selection import ParameterGrid\n",
    "\n",
    "X_train = train_df['msg'].values\n",
    "y_train = train_df['label']\n",
    "\n",
    "X_test = test_df['msg'].values\n",
    "y_true = test_df['label']\n",
    "\n",
    "grid = {\n",
    "    'max_df': np.arange(0.01, 1.0, 0.01),\n",
    "    'min_df': np.arange(1, 20, 1),\n",
    "}\n",
    "\n",
    "best_params = {'max_df': None, 'min_df': None}\n",
    "best_score = 0.0\n",
    "\n",
    "num_iters = len(ParameterGrid(grid))\n",
    "\n",
    "cnt = 0\n",
    "for param_values in ParameterGrid(grid):\n",
    "    # fit \n",
    "    vectorizer = TfidfVectorizer(**param_values).fit(X_train)\n",
    "    X_train_csr = vectorizer.transform(X_train)\n",
    "    lr = LogisticRegression().fit(X_train_csr, y_train)\n",
    "    # predict\n",
    "    X_test_csr = vectorizer.transform(X_test)\n",
    "    y_pred = lr.predict(X_test_csr)\n",
    "    cur_score = f1_score(y_true, y_pred)\n",
    "    if cur_score > best_score:\n",
    "        best_score = cur_score\n",
    "        best_params.update(param_values)\n",
    "    if cnt % 250 == 0:\n",
    "        logging.info(\n",
    "            'iteration: %d of %d; %s; best_score= %.4f',\n",
    "            cnt, num_iters, param_values, best_score\n",
    "        )\n",
    "    cnt = cnt + 1\n",
    "print('best params: %s, best_score %.4f', best_params, best_score)"
   ]
  },
  {
   "cell_type": "code",
   "execution_count": 68,
   "id": "a6dcc20d",
   "metadata": {},
   "outputs": [
    {
     "data": {
      "text/html": [
       "<div>\n",
       "<style scoped>\n",
       "    .dataframe tbody tr th:only-of-type {\n",
       "        vertical-align: middle;\n",
       "    }\n",
       "\n",
       "    .dataframe tbody tr th {\n",
       "        vertical-align: top;\n",
       "    }\n",
       "\n",
       "    .dataframe thead th {\n",
       "        text-align: right;\n",
       "    }\n",
       "</style>\n",
       "<table border=\"1\" class=\"dataframe\">\n",
       "  <thead>\n",
       "    <tr style=\"text-align: right;\">\n",
       "      <th></th>\n",
       "      <th>msg_id</th>\n",
       "      <th>msg</th>\n",
       "      <th>label</th>\n",
       "      <th>subset</th>\n",
       "    </tr>\n",
       "  </thead>\n",
       "  <tbody>\n",
       "    <tr>\n",
       "      <th>0</th>\n",
       "      <td>0</td>\n",
       "      <td>здравствуйте. ишу 2х спальную квартиру в лимассоле. желательно гермасойя. семья из 2х взрослых и 2х детей. без животных. на длительный срок, бюджет до 1000-1500 евро. предложения в лс.</td>\n",
       "      <td>0</td>\n",
       "      <td>train</td>\n",
       "    </tr>\n",
       "    <tr>\n",
       "      <th>1</th>\n",
       "      <td>1</td>\n",
       "      <td>#сниму  комнату в лимассоле или недалеко от него. с начала августа. любые предложения в лс</td>\n",
       "      <td>0</td>\n",
       "      <td>train</td>\n",
       "    </tr>\n",
       "    <tr>\n",
       "      <th>2</th>\n",
       "      <td>2</td>\n",
       "      <td>мошенник риэлторским услугам.</td>\n",
       "      <td>0</td>\n",
       "      <td>train</td>\n",
       "    </tr>\n",
       "    <tr>\n",
       "      <th>3</th>\n",
       "      <td>3</td>\n",
       "      <td>**sales**    reg.1053 lic.489/e **stylish apartment with sea view  kissonerga. paphos** •total area: 85 m2  + balcony  •bedrooms:  2 •bathrooms: 1 **€ 120,000** we have a lot to offer  ================ **продажа**  reg.1053 lic.489/e **стильные апартаменты вид на море  •••kissonerga. пафос. ** •общая площадь: 85м2 + балкон •спальни: 2 •ванные комнаты: 1 **€ 120 000 ****+35726935826****  директ telegram 24/7** у нас есть что вам предложить</td>\n",
       "      <td>0</td>\n",
       "      <td>train</td>\n",
       "    </tr>\n",
       "    <tr>\n",
       "      <th>4</th>\n",
       "      <td>4</td>\n",
       "      <td>важно: [valerii korol](tg://user?id=193474890), если ты не бот и не спамер, пройди проверку, нажав на кнопку, где есть</td>\n",
       "      <td>0</td>\n",
       "      <td>train</td>\n",
       "    </tr>\n",
       "  </tbody>\n",
       "</table>\n",
       "</div>"
      ],
      "text/plain": [
       "   msg_id                                                                                                                                                                                                                                                                                                                                                                                                                                                         msg  label subset\n",
       "0       0                                                                                                                                                                                                                                                                    здравствуйте. ишу 2х спальную квартиру в лимассоле. желательно гермасойя. семья из 2х взрослых и 2х детей. без животных. на длительный срок, бюджет до 1000-1500 евро. предложения в лс.      0  train\n",
       "1       1                                                                                                                                                                                                                                                                                                                                                                  #сниму  комнату в лимассоле или недалеко от него. с начала августа. любые предложения в лс      0  train\n",
       "2       2                                                                                                                                                                                                                                                                                                                                                                                                                               мошенник риэлторским услугам.      0  train\n",
       "3       3  **sales**    reg.1053 lic.489/e **stylish apartment with sea view  kissonerga. paphos** •total area: 85 m2  + balcony  •bedrooms:  2 •bathrooms: 1 **€ 120,000** we have a lot to offer  ================ **продажа**  reg.1053 lic.489/e **стильные апартаменты вид на море  •••kissonerga. пафос. ** •общая площадь: 85м2 + балкон •спальни: 2 •ванные комнаты: 1 **€ 120 000 ****+35726935826****  директ telegram 24/7** у нас есть что вам предложить      0  train\n",
       "4       4                                                                                                                                                                                                                                                                                                                                     важно: [valerii korol](tg://user?id=193474890), если ты не бот и не спамер, пройди проверку, нажав на кнопку, где есть       0  train"
      ]
     },
     "execution_count": 68,
     "metadata": {},
     "output_type": "execute_result"
    }
   ],
   "source": [
    "df.reset_index().rename(columns={'index': 'msg_id'}).head()"
   ]
  },
  {
   "cell_type": "code",
   "execution_count": 69,
   "id": "69dd703b",
   "metadata": {},
   "outputs": [],
   "source": [
    "df.reset_index().rename(columns={'index': 'msg_id'}).to_csv('/srv/data/labeled_data_corpus.csv', index=False)"
   ]
  },
  {
   "cell_type": "code",
   "execution_count": null,
   "id": "5f227873",
   "metadata": {},
   "outputs": [],
   "source": []
  },
  {
   "cell_type": "code",
   "execution_count": 1,
   "id": "88be6ed7",
   "metadata": {},
   "outputs": [
    {
     "ename": "NameError",
     "evalue": "name 'pd' is not defined",
     "output_type": "error",
     "traceback": [
      "\u001b[0;31m---------------------------------------------------------------------------\u001b[0m",
      "\u001b[0;31mNameError\u001b[0m                                 Traceback (most recent call last)",
      "Cell \u001b[0;32mIn[1], line 1\u001b[0m\n\u001b[0;32m----> 1\u001b[0m df \u001b[38;5;241m=\u001b[39m \u001b[43mpd\u001b[49m\u001b[38;5;241m.\u001b[39mread_csv(\u001b[38;5;124m'\u001b[39m\u001b[38;5;124m/srv/data/labeled_data_corpus.csv\u001b[39m\u001b[38;5;124m'\u001b[39m)[[\u001b[38;5;124m'\u001b[39m\u001b[38;5;124mmsg\u001b[39m\u001b[38;5;124m'\u001b[39m, \u001b[38;5;124m'\u001b[39m\u001b[38;5;124mlabel\u001b[39m\u001b[38;5;124m'\u001b[39m]]\n\u001b[1;32m      3\u001b[0m train_df \u001b[38;5;241m=\u001b[39m df[df[\u001b[38;5;124m'\u001b[39m\u001b[38;5;124msubset\u001b[39m\u001b[38;5;124m'\u001b[39m] \u001b[38;5;241m==\u001b[39m \u001b[38;5;124m'\u001b[39m\u001b[38;5;124mtrain\u001b[39m\u001b[38;5;124m'\u001b[39m]\n\u001b[1;32m      4\u001b[0m test_df \u001b[38;5;241m=\u001b[39m df[df[\u001b[38;5;124m'\u001b[39m\u001b[38;5;124msubset\u001b[39m\u001b[38;5;124m'\u001b[39m] \u001b[38;5;241m==\u001b[39m \u001b[38;5;124m'\u001b[39m\u001b[38;5;124mtest\u001b[39m\u001b[38;5;124m'\u001b[39m]\n",
      "\u001b[0;31mNameError\u001b[0m: name 'pd' is not defined"
     ]
    }
   ],
   "source": [
    "df = pd.read_csv('/srv/data/labeled_data_corpus.csv')[['msg', 'label']]\n",
    "\n",
    "train_df = df[df['subset'] == 'train']\n",
    "test_df = df[df['subset'] == 'test']\n",
    "print(train_df.shape[0], train_df['label'].mean(), test_df.shape[0], test_df['label'].mean())"
   ]
  },
  {
   "cell_type": "code",
   "execution_count": null,
   "id": "925e386f",
   "metadata": {},
   "outputs": [],
   "source": []
  }
 ],
 "metadata": {
  "kernelspec": {
   "display_name": "Python 3 (ipykernel)",
   "language": "python",
   "name": "python3"
  },
  "language_info": {
   "codemirror_mode": {
    "name": "ipython",
    "version": 3
   },
   "file_extension": ".py",
   "mimetype": "text/x-python",
   "name": "python",
   "nbconvert_exporter": "python",
   "pygments_lexer": "ipython3",
   "version": "3.8.16"
  }
 },
 "nbformat": 4,
 "nbformat_minor": 5
}
