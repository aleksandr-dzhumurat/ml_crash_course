{
 "cells": [
  {
   "cell_type": "markdown",
   "metadata": {
    "id": "-HJTv3Dcn8ma"
   },
   "source": [
    "# Пример ML проекта\n",
    "\n",
    "\n",
    "В этой лекции пройдем все шаги по подготовке ML проекта: от подготовки \"сырых\" данных до анализа результатов\n",
    "\n",
    "Поговорим про понятие \"стакинг моделей\"(stacking)\n",
    "\n",
    "## Подключаемся к Google Drive\n",
    "\n",
    "В реальном мире данные нужно брать из баз данных, но для учебных целей загрузим csv файл"
   ]
  },
  {
   "cell_type": "code",
   "execution_count": 1,
   "metadata": {
    "colab": {
     "base_uri": "https://localhost:8080/"
    },
    "id": "icrNaC1Rn_ZO",
    "outputId": "bb053166-db05-4ba4-ef4a-b2b6cd3982a0"
   },
   "outputs": [
    {
     "ename": "ModuleNotFoundError",
     "evalue": "No module named 'google.colab'",
     "output_type": "error",
     "traceback": [
      "\u001b[0;31m---------------------------------------------------------------------------\u001b[0m",
      "\u001b[0;31mModuleNotFoundError\u001b[0m                       Traceback (most recent call last)",
      "Cell \u001b[0;32mIn[1], line 5\u001b[0m\n\u001b[1;32m      2\u001b[0m \u001b[38;5;28;01mimport\u001b[39;00m \u001b[38;5;21;01mshutil\u001b[39;00m \n\u001b[1;32m      4\u001b[0m \u001b[38;5;28;01mimport\u001b[39;00m \u001b[38;5;21;01mnumpy\u001b[39;00m \u001b[38;5;28;01mas\u001b[39;00m \u001b[38;5;21;01mnp\u001b[39;00m\n\u001b[0;32m----> 5\u001b[0m \u001b[38;5;28;01mfrom\u001b[39;00m \u001b[38;5;21;01mgoogle\u001b[39;00m\u001b[38;5;21;01m.\u001b[39;00m\u001b[38;5;21;01mcolab\u001b[39;00m \u001b[38;5;28;01mimport\u001b[39;00m drive\n\u001b[1;32m      7\u001b[0m RANDOM_SEED \u001b[38;5;241m=\u001b[39m \u001b[38;5;241m42\u001b[39m\n\u001b[1;32m      8\u001b[0m np\u001b[38;5;241m.\u001b[39mrandom\u001b[38;5;241m.\u001b[39mseed(RANDOM_SEED)  \u001b[38;5;66;03m# гарантируем воспроизводимость\u001b[39;00m\n",
      "\u001b[0;31mModuleNotFoundError\u001b[0m: No module named 'google.colab'"
     ]
    }
   ],
   "source": [
    "import os\n",
    "import shutil \n",
    "\n",
    "import numpy as np\n",
    "from google.colab import drive\n",
    "\n",
    "RANDOM_SEED = 42\n",
    "np.random.seed(RANDOM_SEED)  # гарантируем воспроизводимость\n",
    "\n",
    "print('Инициализировали логгер')\n",
    "\n",
    "ROOT_DIR = '/content/drive' \n",
    "drive.mount(ROOT_DIR)\n",
    "print('Подключили диск')\n",
    "\n",
    "root_data_dir = os.path.join(ROOT_DIR, 'MyDrive', 'ml_course_data')\n",
    "if not os.path.exists(root_data_dir):\n",
    "  raise RuntimeError('Отсутствует директория с данными')\n",
    "else:\n",
    "  print('Содержимое директории %s: %s', root_data_dir, os.listdir(root_data_dir))"
   ]
  },
  {
   "cell_type": "markdown",
   "metadata": {
    "id": "0_skD8u3zkM3"
   },
   "source": [
    "Каждая задача решается в несколько шагов\n",
    "* Business Understanding\n",
    "* Data understanding\n",
    "* Baseline\n",
    "* Modeling\n",
    "* Production (релиз модели в виде сервиса)\n",
    "\n",
    "### Business Understanding\n",
    "\n",
    "Сначала нужно пообщаться с бизнес-аналитиком, который расскажет про особенности датасета:\n",
    "\n",
    "Мы имеем дело с выгрузкой из системы модерации. Задача, которую мы решаем: нужно создать систему модерации контента, недопустимый контент должен быть забанен автоматически. Бан контент может получить по разным причинам:\n",
    "\n",
    "* расизм\n",
    "* политика \n",
    "* кликбейт и т.д.\n",
    "\n",
    "Пример контента, который получил бан по политическим причинам\n",
    "\n",
    "[политика](https://drive.google.com/file/d/1MH8z-pTbZ-VJ0ZPsA2KbjaY52rKL4Ycl/view?usp=sharing)"
   ]
  },
  {
   "cell_type": "markdown",
   "metadata": {
    "id": "oaAHk2y106VE"
   },
   "source": [
    "В датасете \n",
    "* `content_id` - идентификатор контента, служебное поле\n",
    "* `featured_approval_content_declined` - таргет, который мы предсказываем (`1` если контент был забанен и `0` в ином случае)\n",
    "* `declined_reason` - причина бана (заполнено только для `content_declined==1`)\n",
    "\n",
    "Остальные поля - фичи из различных источников\n",
    "* статистические фичи\n",
    "  * num_smiles\n",
    "  * num_saves\n",
    "  * num_shares\n",
    "  * num_repubs\n",
    "  * num_comments\n",
    "  * num_days_on_service\n",
    "* численные фичи\n",
    "  * approved\n",
    "  * soft_shotted\n",
    "  * hard_shotted"
   ]
  },
  {
   "cell_type": "code",
   "execution_count": 4,
   "metadata": {
    "colab": {
     "base_uri": "https://localhost:8080/",
     "height": 268
    },
    "id": "_6bIn5DLoKat",
    "outputId": "ba87d703-b11d-43d9-d8dd-302093db93bd"
   },
   "outputs": [
    {
     "data": {
      "text/html": [
       "\n",
       "  <div id=\"df-3d9abf25-0ee6-47d6-b4fa-a74acc5293ab\">\n",
       "    <div class=\"colab-df-container\">\n",
       "      <div>\n",
       "<style scoped>\n",
       "    .dataframe tbody tr th:only-of-type {\n",
       "        vertical-align: middle;\n",
       "    }\n",
       "\n",
       "    .dataframe tbody tr th {\n",
       "        vertical-align: top;\n",
       "    }\n",
       "\n",
       "    .dataframe thead th {\n",
       "        text-align: right;\n",
       "    }\n",
       "</style>\n",
       "<table border=\"1\" class=\"dataframe\">\n",
       "  <thead>\n",
       "    <tr style=\"text-align: right;\">\n",
       "      <th></th>\n",
       "      <th>content_id</th>\n",
       "      <th>num_views</th>\n",
       "      <th>num_positve_actions</th>\n",
       "      <th>num_smiles</th>\n",
       "      <th>num_saves</th>\n",
       "      <th>num_shares</th>\n",
       "      <th>num_repubs</th>\n",
       "      <th>num_comments</th>\n",
       "      <th>num_days_on_service</th>\n",
       "      <th>featured_approval_content_declined</th>\n",
       "      <th>declined_reason</th>\n",
       "      <th>best_class</th>\n",
       "      <th>approved</th>\n",
       "      <th>hard_shotted</th>\n",
       "      <th>soft_shotted</th>\n",
       "    </tr>\n",
       "  </thead>\n",
       "  <tbody>\n",
       "    <tr>\n",
       "      <th>0</th>\n",
       "      <td>IzpfrtD</td>\n",
       "      <td>127770</td>\n",
       "      <td>12725</td>\n",
       "      <td>12455</td>\n",
       "      <td>168</td>\n",
       "      <td>141</td>\n",
       "      <td>556</td>\n",
       "      <td>1784</td>\n",
       "      <td>25</td>\n",
       "      <td>0.0</td>\n",
       "      <td>NaN</td>\n",
       "      <td>NaN</td>\n",
       "      <td>NaN</td>\n",
       "      <td>NaN</td>\n",
       "      <td>NaN</td>\n",
       "    </tr>\n",
       "    <tr>\n",
       "      <th>1</th>\n",
       "      <td>FibDyiC</td>\n",
       "      <td>86090</td>\n",
       "      <td>6180</td>\n",
       "      <td>5704</td>\n",
       "      <td>173</td>\n",
       "      <td>383</td>\n",
       "      <td>289</td>\n",
       "      <td>6016</td>\n",
       "      <td>5</td>\n",
       "      <td>1.0</td>\n",
       "      <td>racism</td>\n",
       "      <td>approved</td>\n",
       "      <td>0.908444</td>\n",
       "      <td>0.033255</td>\n",
       "      <td>0.058302</td>\n",
       "    </tr>\n",
       "    <tr>\n",
       "      <th>2</th>\n",
       "      <td>LUkUBEm</td>\n",
       "      <td>78286</td>\n",
       "      <td>5228</td>\n",
       "      <td>4944</td>\n",
       "      <td>376</td>\n",
       "      <td>29</td>\n",
       "      <td>162</td>\n",
       "      <td>165</td>\n",
       "      <td>6</td>\n",
       "      <td>0.0</td>\n",
       "      <td>NaN</td>\n",
       "      <td>approved</td>\n",
       "      <td>0.994736</td>\n",
       "      <td>0.002517</td>\n",
       "      <td>0.002748</td>\n",
       "    </tr>\n",
       "    <tr>\n",
       "      <th>3</th>\n",
       "      <td>zPrfyiz</td>\n",
       "      <td>76931</td>\n",
       "      <td>5664</td>\n",
       "      <td>5506</td>\n",
       "      <td>231</td>\n",
       "      <td>8</td>\n",
       "      <td>151</td>\n",
       "      <td>395</td>\n",
       "      <td>5</td>\n",
       "      <td>1.0</td>\n",
       "      <td>politics_religion</td>\n",
       "      <td>approved</td>\n",
       "      <td>0.987415</td>\n",
       "      <td>0.008829</td>\n",
       "      <td>0.003755</td>\n",
       "    </tr>\n",
       "    <tr>\n",
       "      <th>4</th>\n",
       "      <td>eNAyJnh</td>\n",
       "      <td>72021</td>\n",
       "      <td>6148</td>\n",
       "      <td>5844</td>\n",
       "      <td>453</td>\n",
       "      <td>16</td>\n",
       "      <td>261</td>\n",
       "      <td>113</td>\n",
       "      <td>5</td>\n",
       "      <td>1.0</td>\n",
       "      <td>racism</td>\n",
       "      <td>approved</td>\n",
       "      <td>0.989974</td>\n",
       "      <td>0.005185</td>\n",
       "      <td>0.004841</td>\n",
       "    </tr>\n",
       "  </tbody>\n",
       "</table>\n",
       "</div>\n",
       "      <button class=\"colab-df-convert\" onclick=\"convertToInteractive('df-3d9abf25-0ee6-47d6-b4fa-a74acc5293ab')\"\n",
       "              title=\"Convert this dataframe to an interactive table.\"\n",
       "              style=\"display:none;\">\n",
       "        \n",
       "  <svg xmlns=\"http://www.w3.org/2000/svg\" height=\"24px\"viewBox=\"0 0 24 24\"\n",
       "       width=\"24px\">\n",
       "    <path d=\"M0 0h24v24H0V0z\" fill=\"none\"/>\n",
       "    <path d=\"M18.56 5.44l.94 2.06.94-2.06 2.06-.94-2.06-.94-.94-2.06-.94 2.06-2.06.94zm-11 1L8.5 8.5l.94-2.06 2.06-.94-2.06-.94L8.5 2.5l-.94 2.06-2.06.94zm10 10l.94 2.06.94-2.06 2.06-.94-2.06-.94-.94-2.06-.94 2.06-2.06.94z\"/><path d=\"M17.41 7.96l-1.37-1.37c-.4-.4-.92-.59-1.43-.59-.52 0-1.04.2-1.43.59L10.3 9.45l-7.72 7.72c-.78.78-.78 2.05 0 2.83L4 21.41c.39.39.9.59 1.41.59.51 0 1.02-.2 1.41-.59l7.78-7.78 2.81-2.81c.8-.78.8-2.07 0-2.86zM5.41 20L4 18.59l7.72-7.72 1.47 1.35L5.41 20z\"/>\n",
       "  </svg>\n",
       "      </button>\n",
       "      \n",
       "  <style>\n",
       "    .colab-df-container {\n",
       "      display:flex;\n",
       "      flex-wrap:wrap;\n",
       "      gap: 12px;\n",
       "    }\n",
       "\n",
       "    .colab-df-convert {\n",
       "      background-color: #E8F0FE;\n",
       "      border: none;\n",
       "      border-radius: 50%;\n",
       "      cursor: pointer;\n",
       "      display: none;\n",
       "      fill: #1967D2;\n",
       "      height: 32px;\n",
       "      padding: 0 0 0 0;\n",
       "      width: 32px;\n",
       "    }\n",
       "\n",
       "    .colab-df-convert:hover {\n",
       "      background-color: #E2EBFA;\n",
       "      box-shadow: 0px 1px 2px rgba(60, 64, 67, 0.3), 0px 1px 3px 1px rgba(60, 64, 67, 0.15);\n",
       "      fill: #174EA6;\n",
       "    }\n",
       "\n",
       "    [theme=dark] .colab-df-convert {\n",
       "      background-color: #3B4455;\n",
       "      fill: #D2E3FC;\n",
       "    }\n",
       "\n",
       "    [theme=dark] .colab-df-convert:hover {\n",
       "      background-color: #434B5C;\n",
       "      box-shadow: 0px 1px 3px 1px rgba(0, 0, 0, 0.15);\n",
       "      filter: drop-shadow(0px 1px 2px rgba(0, 0, 0, 0.3));\n",
       "      fill: #FFFFFF;\n",
       "    }\n",
       "  </style>\n",
       "\n",
       "      <script>\n",
       "        const buttonEl =\n",
       "          document.querySelector('#df-3d9abf25-0ee6-47d6-b4fa-a74acc5293ab button.colab-df-convert');\n",
       "        buttonEl.style.display =\n",
       "          google.colab.kernel.accessAllowed ? 'block' : 'none';\n",
       "\n",
       "        async function convertToInteractive(key) {\n",
       "          const element = document.querySelector('#df-3d9abf25-0ee6-47d6-b4fa-a74acc5293ab');\n",
       "          const dataTable =\n",
       "            await google.colab.kernel.invokeFunction('convertToInteractive',\n",
       "                                                     [key], {});\n",
       "          if (!dataTable) return;\n",
       "\n",
       "          const docLinkHtml = 'Like what you see? Visit the ' +\n",
       "            '<a target=\"_blank\" href=https://colab.research.google.com/notebooks/data_table.ipynb>data table notebook</a>'\n",
       "            + ' to learn more about interactive tables.';\n",
       "          element.innerHTML = '';\n",
       "          dataTable['output_type'] = 'display_data';\n",
       "          await google.colab.output.renderOutput(dataTable, element);\n",
       "          const docLink = document.createElement('div');\n",
       "          docLink.innerHTML = docLinkHtml;\n",
       "          element.appendChild(docLink);\n",
       "        }\n",
       "      </script>\n",
       "    </div>\n",
       "  </div>\n",
       "  "
      ],
      "text/plain": [
       "  content_id  num_views  num_positve_actions  num_smiles  num_saves  \\\n",
       "0    IzpfrtD     127770                12725       12455        168   \n",
       "1    FibDyiC      86090                 6180        5704        173   \n",
       "2    LUkUBEm      78286                 5228        4944        376   \n",
       "3    zPrfyiz      76931                 5664        5506        231   \n",
       "4    eNAyJnh      72021                 6148        5844        453   \n",
       "\n",
       "   num_shares  num_repubs  num_comments  num_days_on_service  \\\n",
       "0         141         556          1784                   25   \n",
       "1         383         289          6016                    5   \n",
       "2          29         162           165                    6   \n",
       "3           8         151           395                    5   \n",
       "4          16         261           113                    5   \n",
       "\n",
       "   featured_approval_content_declined    declined_reason best_class  approved  \\\n",
       "0                                 0.0                NaN        NaN       NaN   \n",
       "1                                 1.0             racism   approved  0.908444   \n",
       "2                                 0.0                NaN   approved  0.994736   \n",
       "3                                 1.0  politics_religion   approved  0.987415   \n",
       "4                                 1.0             racism   approved  0.989974   \n",
       "\n",
       "   hard_shotted  soft_shotted  \n",
       "0           NaN           NaN  \n",
       "1      0.033255      0.058302  \n",
       "2      0.002517      0.002748  \n",
       "3      0.008829      0.003755  \n",
       "4      0.005185      0.004841  "
      ]
     },
     "execution_count": 4,
     "metadata": {},
     "output_type": "execute_result"
    }
   ],
   "source": [
    "import pandas as pd\n",
    "\n",
    "input_dataset_df = pd.read_csv(os.path.join(root_data_dir, 'final_dataset.zip'), compression='zip')\n",
    "\n",
    "input_dataset_df.head()"
   ]
  },
  {
   "cell_type": "markdown",
   "metadata": {
    "id": "9UafrbReQVpd"
   },
   "source": [
    "Существующие фичи будут сильно расширены и дополнены в процессе фича-инжениринга"
   ]
  },
  {
   "cell_type": "markdown",
   "metadata": {
    "id": "zCXmSfw29lIP"
   },
   "source": [
    "По примеру видно, что мощные фичи можно извлечь из текста (даже некоторые ключевые слова будут полезны как \"фича\" при детекции политических мемов)\n",
    "\n",
    "Нам досутпна выгрузка из системы OCR (optical character recognition, оптическое распознавание символов), которая распознаёт текст на изображениях."
   ]
  },
  {
   "cell_type": "code",
   "execution_count": 6,
   "metadata": {
    "colab": {
     "base_uri": "https://localhost:8080/",
     "height": 204
    },
    "id": "a_MP14ucqPmc",
    "outputId": "de693d6c-bf80-4188-f303-237a2d607e2a"
   },
   "outputs": [
    {
     "data": {
      "text/html": [
       "\n",
       "  <div id=\"df-a6e155ed-1446-4304-b718-292eb5c0bfba\">\n",
       "    <div class=\"colab-df-container\">\n",
       "      <div>\n",
       "<style scoped>\n",
       "    .dataframe tbody tr th:only-of-type {\n",
       "        vertical-align: middle;\n",
       "    }\n",
       "\n",
       "    .dataframe tbody tr th {\n",
       "        vertical-align: top;\n",
       "    }\n",
       "\n",
       "    .dataframe thead th {\n",
       "        text-align: right;\n",
       "    }\n",
       "</style>\n",
       "<table border=\"1\" class=\"dataframe\">\n",
       "  <thead>\n",
       "    <tr style=\"text-align: right;\">\n",
       "      <th></th>\n",
       "      <th>content_id</th>\n",
       "      <th>text</th>\n",
       "    </tr>\n",
       "  </thead>\n",
       "  <tbody>\n",
       "    <tr>\n",
       "      <th>0</th>\n",
       "      <td>muTKNpX</td>\n",
       "      <td>Like this if you think Joe Biden\\nshould to go...</td>\n",
       "    </tr>\n",
       "    <tr>\n",
       "      <th>1</th>\n",
       "      <td>oCsKxRF</td>\n",
       "      <td>This series is garbage.\\nIt's so unrealistic</td>\n",
       "    </tr>\n",
       "    <tr>\n",
       "      <th>2</th>\n",
       "      <td>hEZuhDH</td>\n",
       "      <td>Phone in one hand, your mum in the other\\nidie...</td>\n",
       "    </tr>\n",
       "    <tr>\n",
       "      <th>3</th>\n",
       "      <td>KuUnefc</td>\n",
       "      <td>vsauce.\\nmichael here.\\nyou cant contain me fo...</td>\n",
       "    </tr>\n",
       "    <tr>\n",
       "      <th>4</th>\n",
       "      <td>ykIaYzU</td>\n",
       "      <td>Fatphobia\\nFatphobia is a phobia in which over...</td>\n",
       "    </tr>\n",
       "  </tbody>\n",
       "</table>\n",
       "</div>\n",
       "      <button class=\"colab-df-convert\" onclick=\"convertToInteractive('df-a6e155ed-1446-4304-b718-292eb5c0bfba')\"\n",
       "              title=\"Convert this dataframe to an interactive table.\"\n",
       "              style=\"display:none;\">\n",
       "        \n",
       "  <svg xmlns=\"http://www.w3.org/2000/svg\" height=\"24px\"viewBox=\"0 0 24 24\"\n",
       "       width=\"24px\">\n",
       "    <path d=\"M0 0h24v24H0V0z\" fill=\"none\"/>\n",
       "    <path d=\"M18.56 5.44l.94 2.06.94-2.06 2.06-.94-2.06-.94-.94-2.06-.94 2.06-2.06.94zm-11 1L8.5 8.5l.94-2.06 2.06-.94-2.06-.94L8.5 2.5l-.94 2.06-2.06.94zm10 10l.94 2.06.94-2.06 2.06-.94-2.06-.94-.94-2.06-.94 2.06-2.06.94z\"/><path d=\"M17.41 7.96l-1.37-1.37c-.4-.4-.92-.59-1.43-.59-.52 0-1.04.2-1.43.59L10.3 9.45l-7.72 7.72c-.78.78-.78 2.05 0 2.83L4 21.41c.39.39.9.59 1.41.59.51 0 1.02-.2 1.41-.59l7.78-7.78 2.81-2.81c.8-.78.8-2.07 0-2.86zM5.41 20L4 18.59l7.72-7.72 1.47 1.35L5.41 20z\"/>\n",
       "  </svg>\n",
       "      </button>\n",
       "      \n",
       "  <style>\n",
       "    .colab-df-container {\n",
       "      display:flex;\n",
       "      flex-wrap:wrap;\n",
       "      gap: 12px;\n",
       "    }\n",
       "\n",
       "    .colab-df-convert {\n",
       "      background-color: #E8F0FE;\n",
       "      border: none;\n",
       "      border-radius: 50%;\n",
       "      cursor: pointer;\n",
       "      display: none;\n",
       "      fill: #1967D2;\n",
       "      height: 32px;\n",
       "      padding: 0 0 0 0;\n",
       "      width: 32px;\n",
       "    }\n",
       "\n",
       "    .colab-df-convert:hover {\n",
       "      background-color: #E2EBFA;\n",
       "      box-shadow: 0px 1px 2px rgba(60, 64, 67, 0.3), 0px 1px 3px 1px rgba(60, 64, 67, 0.15);\n",
       "      fill: #174EA6;\n",
       "    }\n",
       "\n",
       "    [theme=dark] .colab-df-convert {\n",
       "      background-color: #3B4455;\n",
       "      fill: #D2E3FC;\n",
       "    }\n",
       "\n",
       "    [theme=dark] .colab-df-convert:hover {\n",
       "      background-color: #434B5C;\n",
       "      box-shadow: 0px 1px 3px 1px rgba(0, 0, 0, 0.15);\n",
       "      filter: drop-shadow(0px 1px 2px rgba(0, 0, 0, 0.3));\n",
       "      fill: #FFFFFF;\n",
       "    }\n",
       "  </style>\n",
       "\n",
       "      <script>\n",
       "        const buttonEl =\n",
       "          document.querySelector('#df-a6e155ed-1446-4304-b718-292eb5c0bfba button.colab-df-convert');\n",
       "        buttonEl.style.display =\n",
       "          google.colab.kernel.accessAllowed ? 'block' : 'none';\n",
       "\n",
       "        async function convertToInteractive(key) {\n",
       "          const element = document.querySelector('#df-a6e155ed-1446-4304-b718-292eb5c0bfba');\n",
       "          const dataTable =\n",
       "            await google.colab.kernel.invokeFunction('convertToInteractive',\n",
       "                                                     [key], {});\n",
       "          if (!dataTable) return;\n",
       "\n",
       "          const docLinkHtml = 'Like what you see? Visit the ' +\n",
       "            '<a target=\"_blank\" href=https://colab.research.google.com/notebooks/data_table.ipynb>data table notebook</a>'\n",
       "            + ' to learn more about interactive tables.';\n",
       "          element.innerHTML = '';\n",
       "          dataTable['output_type'] = 'display_data';\n",
       "          await google.colab.output.renderOutput(dataTable, element);\n",
       "          const docLink = document.createElement('div');\n",
       "          docLink.innerHTML = docLinkHtml;\n",
       "          element.appendChild(docLink);\n",
       "        }\n",
       "      </script>\n",
       "    </div>\n",
       "  </div>\n",
       "  "
      ],
      "text/plain": [
       "  content_id                                               text\n",
       "0    muTKNpX  Like this if you think Joe Biden\\nshould to go...\n",
       "1    oCsKxRF       This series is garbage.\\nIt's so unrealistic\n",
       "2    hEZuhDH  Phone in one hand, your mum in the other\\nidie...\n",
       "3    KuUnefc  vsauce.\\nmichael here.\\nyou cant contain me fo...\n",
       "4    ykIaYzU  Fatphobia\\nFatphobia is a phobia in which over..."
      ]
     },
     "execution_count": 6,
     "metadata": {},
     "output_type": "execute_result"
    }
   ],
   "source": [
    "ocr_dataset_df = pd.read_csv(os.path.join(root_data_dir, 'ocr_dataset.zip'), compression='zip')\n",
    "\n",
    "ocr_dataset_df.head()"
   ]
  },
  {
   "cell_type": "markdown",
   "metadata": {
    "id": "d7wN_i-dQ_QP"
   },
   "source": [
    "Итого у нас два источника данных - посмотрим, что можно сделать с ними"
   ]
  },
  {
   "cell_type": "markdown",
   "metadata": {
    "id": "hECSqCqY-4vP"
   },
   "source": [
    "## Data Understandig\n",
    "\n",
    "Этот этап в анализе данные принято называть Exploratory Data Analysis (EDA)\n",
    "\n",
    "На этом этапе нужно хорошо \"закопаться\" в данные  чтобы лучше понять их природу\n",
    "\n",
    "Какие инструменты помогут\n",
    "\n",
    "* **pandas** для работы с табличными данными\n",
    "  * метод `.describe()` у датафрейма\n",
    "  * `.merge()` для объединения различных источников данных\n",
    "  * `.value_counts()` для быстрого выполнения операции `group by` + `count`\n",
    "* визуализации с помощью методов `.plot()` и `.hist()` а также библиотеки matplotlib\n",
    "* Streamlit"
   ]
  },
  {
   "cell_type": "code",
   "execution_count": 7,
   "metadata": {
    "colab": {
     "base_uri": "https://localhost:8080/"
    },
    "id": "EKwQ7soGrNy7",
    "outputId": "1a9a8340-762d-4418-a955-c0dacce50175"
   },
   "outputs": [
    {
     "data": {
      "text/plain": [
       "100000"
      ]
     },
     "execution_count": 7,
     "metadata": {},
     "output_type": "execute_result"
    }
   ],
   "source": [
    "input_dataset_df.shape[0]"
   ]
  },
  {
   "cell_type": "code",
   "execution_count": 8,
   "metadata": {
    "colab": {
     "base_uri": "https://localhost:8080/"
    },
    "id": "PXvsfQh7rFWR",
    "outputId": "4eddc2b4-e8ed-4089-de50-4d9362df0a77"
   },
   "outputs": [
    {
     "data": {
      "text/plain": [
       "count    100000.000000\n",
       "mean         52.511750\n",
       "std         196.677364\n",
       "min           4.000000\n",
       "25%          17.000000\n",
       "50%          22.000000\n",
       "75%          35.000000\n",
       "max       12725.000000\n",
       "Name: num_positve_actions, dtype: float64"
      ]
     },
     "execution_count": 8,
     "metadata": {},
     "output_type": "execute_result"
    }
   ],
   "source": [
    "input_dataset_df['num_positve_actions'].describe()"
   ]
  },
  {
   "cell_type": "code",
   "execution_count": 9,
   "metadata": {
    "colab": {
     "base_uri": "https://localhost:8080/"
    },
    "id": "JG9dECjXTbaY",
    "outputId": "e31ada4e-3835-4d8e-b4a9-82190907e51b"
   },
   "outputs": [
    {
     "data": {
      "text/plain": [
       "0.0    71113\n",
       "1.0    28887\n",
       "Name: featured_approval_content_declined, dtype: int64"
      ]
     },
     "execution_count": 9,
     "metadata": {},
     "output_type": "execute_result"
    }
   ],
   "source": [
    "input_dataset_df['featured_approval_content_declined'].value_counts()"
   ]
  },
  {
   "cell_type": "markdown",
   "metadata": {
    "id": "c0eoQuxAAk3K"
   },
   "source": [
    "Начинаем генерить первые фичи"
   ]
  },
  {
   "cell_type": "code",
   "execution_count": 10,
   "metadata": {
    "colab": {
     "base_uri": "https://localhost:8080/"
    },
    "id": "8xQbfWZprTZW",
    "outputId": "63b802c4-5205-4cf5-fbfa-e4790c238068"
   },
   "outputs": [
    {
     "data": {
      "text/plain": [
       "count    100000.000000\n",
       "mean          0.035188\n",
       "std           0.010258\n",
       "min           0.003347\n",
       "25%           0.029167\n",
       "50%           0.034296\n",
       "75%           0.039693\n",
       "max           0.209123\n",
       "Name: action_rate, dtype: float64"
      ]
     },
     "execution_count": 10,
     "metadata": {},
     "output_type": "execute_result"
    }
   ],
   "source": [
    "input_dataset_df['action_rate'] = (\n",
    "  input_dataset_df['num_positve_actions'] / input_dataset_df['num_views']\n",
    ")\n",
    "\n",
    "input_dataset_df['action_rate'].describe()"
   ]
  },
  {
   "cell_type": "markdown",
   "metadata": {
    "id": "k4VUEQ56AsoI"
   },
   "source": [
    "Нормированные фичи всегда лучше чем ненормированные. При нормировании фичу лучше \"сглаживать\" то есть в знаменатель добавлять какую-то константу\n",
    "\n",
    "Полезно проверить, есть ли разница в распределении фичей по таргету\n",
    "\n",
    "Визуализация эмпирической плотности распределения называется \"гистограмма\""
   ]
  },
  {
   "cell_type": "code",
   "execution_count": 11,
   "metadata": {
    "colab": {
     "base_uri": "https://localhost:8080/",
     "height": 282
    },
    "id": "NBeswfKIArzx",
    "outputId": "db461968-312a-4456-f7ed-4ad7e17ed60c"
   },
   "outputs": [
    {
     "data": {
      "text/plain": [
       "<matplotlib.axes._subplots.AxesSubplot at 0x7f94dc965590>"
      ]
     },
     "execution_count": 11,
     "metadata": {},
     "output_type": "execute_result"
    },
    {
     "data": {
      "image/png": "[encoded data removed]",
      "text/plain": [
       "<Figure size 432x288 with 1 Axes>"
      ]
     },
     "metadata": {
      "needs_background": "light"
     },
     "output_type": "display_data"
    }
   ],
   "source": [
    "ax = input_dataset_df[\n",
    "    input_dataset_df['featured_approval_content_declined']==1.0\n",
    "]['action_rate'].plot(kind='hist', alpha=0.5, bins=20, label='declined', legend=True, density=True)\n",
    "\n",
    "# xboxOne\n",
    "input_dataset_df[\n",
    "    input_dataset_df['featured_approval_content_declined']==0.0\n",
    "]['action_rate'].plot(kind='hist', alpha=0.5, bins=20, label='approved', legend=True, density=True)"
   ]
  },
  {
   "cell_type": "markdown",
   "metadata": {
    "id": "E2sOA2GNKGqN"
   },
   "source": [
    "Полезно также отобразить квантили распределения - для этого подходит визуализация box-plot.\n",
    "\n",
    "Для проверки распределения на соответствие нормальному закону распределения используется QQ-plot"
   ]
  },
  {
   "cell_type": "markdown",
   "metadata": {
    "id": "ceyrkLmKF7Es"
   },
   "source": [
    "# Baseline\n",
    "\n",
    "Когда данные достаточно поисследованы можно построить бейзлайн модель\n",
    "\n",
    "Попробуем построить логистическую регрессию на текстах и проверить качество модели\n",
    "\n",
    "Для начала трансформируем тексты в sparse матрицу"
   ]
  },
  {
   "cell_type": "code",
   "execution_count": 13,
   "metadata": {
    "colab": {
     "base_uri": "https://localhost:8080/"
    },
    "id": "Izg2YeSyta0s",
    "outputId": "df89145b-90fb-4014-953a-94453f9ae445"
   },
   "outputs": [
    {
     "data": {
      "text/plain": [
       "TfidfVectorizer(token_pattern='\\\\b[\\\\w\\\\d]{3,}\\\\b')"
      ]
     },
     "execution_count": 13,
     "metadata": {},
     "output_type": "execute_result"
    }
   ],
   "source": [
    "from sklearn.feature_extraction.text import TfidfVectorizer\n",
    "\n",
    "vectorizer = TfidfVectorizer(\n",
    "    analyzer='word',\n",
    "    lowercase=True,\n",
    "    token_pattern=r'\\b[\\w\\d]{3,}\\b'\n",
    ")\n",
    "\n",
    "vectorizer.fit(ocr_dataset_df.text.values)"
   ]
  },
  {
   "cell_type": "markdown",
   "metadata": {
    "id": "KlqzsDkEHhct"
   },
   "source": [
    "Для валидации модели разбиваем данные на тренировочный и тестовый сет.\n",
    "* 70 x 30\n",
    "* для обучения используем только текст"
   ]
  },
  {
   "cell_type": "markdown",
   "metadata": {
    "id": "kloHI1kcJ3qV"
   },
   "source": [
    "Разделяем данные на тренировочный и валидационный сет"
   ]
  },
  {
   "cell_type": "code",
   "execution_count": 14,
   "metadata": {
    "colab": {
     "base_uri": "https://localhost:8080/",
     "height": 238
    },
    "id": "PsXPS0VAVfXz",
    "outputId": "2c59b990-ea5c-4f43-9c47-fd551e118600"
   },
   "outputs": [
    {
     "name": "stdout",
     "output_type": "stream",
     "text": [
      "Positive target share 0.2889\n",
      "test rows 30000, train rows 70000\n"
     ]
    },
    {
     "data": {
      "text/html": [
       "\n",
       "  <div id=\"df-8ad9e467-072c-44f3-b9e6-57d60a2aa3f6\">\n",
       "    <div class=\"colab-df-container\">\n",
       "      <div>\n",
       "<style scoped>\n",
       "    .dataframe tbody tr th:only-of-type {\n",
       "        vertical-align: middle;\n",
       "    }\n",
       "\n",
       "    .dataframe tbody tr th {\n",
       "        vertical-align: top;\n",
       "    }\n",
       "\n",
       "    .dataframe thead th {\n",
       "        text-align: right;\n",
       "    }\n",
       "</style>\n",
       "<table border=\"1\" class=\"dataframe\">\n",
       "  <thead>\n",
       "    <tr style=\"text-align: right;\">\n",
       "      <th></th>\n",
       "      <th>content_id</th>\n",
       "      <th>y</th>\n",
       "    </tr>\n",
       "  </thead>\n",
       "  <tbody>\n",
       "    <tr>\n",
       "      <th>47861</th>\n",
       "      <td>rfxzrqU</td>\n",
       "      <td>0.0</td>\n",
       "    </tr>\n",
       "    <tr>\n",
       "      <th>24027</th>\n",
       "      <td>emQpiSp</td>\n",
       "      <td>0.0</td>\n",
       "    </tr>\n",
       "    <tr>\n",
       "      <th>80659</th>\n",
       "      <td>EEaGjjw</td>\n",
       "      <td>1.0</td>\n",
       "    </tr>\n",
       "    <tr>\n",
       "      <th>52290</th>\n",
       "      <td>EyNrMvA</td>\n",
       "      <td>1.0</td>\n",
       "    </tr>\n",
       "    <tr>\n",
       "      <th>45198</th>\n",
       "      <td>SkMuDjI</td>\n",
       "      <td>0.0</td>\n",
       "    </tr>\n",
       "  </tbody>\n",
       "</table>\n",
       "</div>\n",
       "      <button class=\"colab-df-convert\" onclick=\"convertToInteractive('df-8ad9e467-072c-44f3-b9e6-57d60a2aa3f6')\"\n",
       "              title=\"Convert this dataframe to an interactive table.\"\n",
       "              style=\"display:none;\">\n",
       "        \n",
       "  <svg xmlns=\"http://www.w3.org/2000/svg\" height=\"24px\"viewBox=\"0 0 24 24\"\n",
       "       width=\"24px\">\n",
       "    <path d=\"M0 0h24v24H0V0z\" fill=\"none\"/>\n",
       "    <path d=\"M18.56 5.44l.94 2.06.94-2.06 2.06-.94-2.06-.94-.94-2.06-.94 2.06-2.06.94zm-11 1L8.5 8.5l.94-2.06 2.06-.94-2.06-.94L8.5 2.5l-.94 2.06-2.06.94zm10 10l.94 2.06.94-2.06 2.06-.94-2.06-.94-.94-2.06-.94 2.06-2.06.94z\"/><path d=\"M17.41 7.96l-1.37-1.37c-.4-.4-.92-.59-1.43-.59-.52 0-1.04.2-1.43.59L10.3 9.45l-7.72 7.72c-.78.78-.78 2.05 0 2.83L4 21.41c.39.39.9.59 1.41.59.51 0 1.02-.2 1.41-.59l7.78-7.78 2.81-2.81c.8-.78.8-2.07 0-2.86zM5.41 20L4 18.59l7.72-7.72 1.47 1.35L5.41 20z\"/>\n",
       "  </svg>\n",
       "      </button>\n",
       "      \n",
       "  <style>\n",
       "    .colab-df-container {\n",
       "      display:flex;\n",
       "      flex-wrap:wrap;\n",
       "      gap: 12px;\n",
       "    }\n",
       "\n",
       "    .colab-df-convert {\n",
       "      background-color: #E8F0FE;\n",
       "      border: none;\n",
       "      border-radius: 50%;\n",
       "      cursor: pointer;\n",
       "      display: none;\n",
       "      fill: #1967D2;\n",
       "      height: 32px;\n",
       "      padding: 0 0 0 0;\n",
       "      width: 32px;\n",
       "    }\n",
       "\n",
       "    .colab-df-convert:hover {\n",
       "      background-color: #E2EBFA;\n",
       "      box-shadow: 0px 1px 2px rgba(60, 64, 67, 0.3), 0px 1px 3px 1px rgba(60, 64, 67, 0.15);\n",
       "      fill: #174EA6;\n",
       "    }\n",
       "\n",
       "    [theme=dark] .colab-df-convert {\n",
       "      background-color: #3B4455;\n",
       "      fill: #D2E3FC;\n",
       "    }\n",
       "\n",
       "    [theme=dark] .colab-df-convert:hover {\n",
       "      background-color: #434B5C;\n",
       "      box-shadow: 0px 1px 3px 1px rgba(0, 0, 0, 0.15);\n",
       "      filter: drop-shadow(0px 1px 2px rgba(0, 0, 0, 0.3));\n",
       "      fill: #FFFFFF;\n",
       "    }\n",
       "  </style>\n",
       "\n",
       "      <script>\n",
       "        const buttonEl =\n",
       "          document.querySelector('#df-8ad9e467-072c-44f3-b9e6-57d60a2aa3f6 button.colab-df-convert');\n",
       "        buttonEl.style.display =\n",
       "          google.colab.kernel.accessAllowed ? 'block' : 'none';\n",
       "\n",
       "        async function convertToInteractive(key) {\n",
       "          const element = document.querySelector('#df-8ad9e467-072c-44f3-b9e6-57d60a2aa3f6');\n",
       "          const dataTable =\n",
       "            await google.colab.kernel.invokeFunction('convertToInteractive',\n",
       "                                                     [key], {});\n",
       "          if (!dataTable) return;\n",
       "\n",
       "          const docLinkHtml = 'Like what you see? Visit the ' +\n",
       "            '<a target=\"_blank\" href=https://colab.research.google.com/notebooks/data_table.ipynb>data table notebook</a>'\n",
       "            + ' to learn more about interactive tables.';\n",
       "          element.innerHTML = '';\n",
       "          dataTable['output_type'] = 'display_data';\n",
       "          await google.colab.output.renderOutput(dataTable, element);\n",
       "          const docLink = document.createElement('div');\n",
       "          docLink.innerHTML = docLinkHtml;\n",
       "          element.appendChild(docLink);\n",
       "        }\n",
       "      </script>\n",
       "    </div>\n",
       "  </div>\n",
       "  "
      ],
      "text/plain": [
       "      content_id    y\n",
       "47861    rfxzrqU  0.0\n",
       "24027    emQpiSp  0.0\n",
       "80659    EEaGjjw  1.0\n",
       "52290    EyNrMvA  1.0\n",
       "45198    SkMuDjI  0.0"
      ]
     },
     "execution_count": 14,
     "metadata": {},
     "output_type": "execute_result"
    }
   ],
   "source": [
    "from sklearn.model_selection import train_test_split\n",
    "\n",
    "def split_dataset(source_df: pd.DataFrame, valid_train_set_size = 0.3):\n",
    "  y = source_df.featured_approval_content_declined\n",
    "\n",
    "  content_ids = source_df['content_id']\n",
    "\n",
    "  x_train, x_test_ids, y_train, y_test = (\n",
    "      train_test_split(\n",
    "          content_ids, y, test_size=valid_train_set_size, random_state=RANDOM_SEED, stratify=y\n",
    "      )\n",
    "  )\n",
    "\n",
    "  test_df = pd.DataFrame({'content_id': x_test_ids, 'y': y_test})\n",
    "  train_df = pd.DataFrame({'content_id': x_train, 'y': y_train})\n",
    "  print('Positive target share %.4f' % (train_df['y'].value_counts(normalize=True)[1]))\n",
    "\n",
    "  return train_df, test_df\n",
    "\n",
    "train_df, test_df = split_dataset(input_dataset_df)\n",
    "print('test rows %d, train rows %d' % (test_df.shape[0], train_df.shape[0]))\n",
    "\n",
    "train_df.head()"
   ]
  },
  {
   "cell_type": "markdown",
   "metadata": {
    "id": "gUXgVQ4QT_KT"
   },
   "source": [
    "Проверяем, что сработала стратификация"
   ]
  },
  {
   "cell_type": "code",
   "execution_count": 15,
   "metadata": {
    "colab": {
     "base_uri": "https://localhost:8080/"
    },
    "id": "cSUDi0YxT_e7",
    "outputId": "d6dd17a7-1afb-4f41-8464-0c79a00bdad5"
   },
   "outputs": [
    {
     "data": {
      "text/plain": [
       "0.0    0.711129\n",
       "1.0    0.288871\n",
       "Name: y, dtype: float64"
      ]
     },
     "execution_count": 15,
     "metadata": {},
     "output_type": "execute_result"
    }
   ],
   "source": [
    "train_df['y'].value_counts(normalize=True)"
   ]
  },
  {
   "cell_type": "markdown",
   "metadata": {
    "id": "0kIxSd768qkr"
   },
   "source": [
    "Трансформируем тренировочный датасет (для обучения) из текста в матрицу (каждый текст - вектор фиксированного размера)"
   ]
  },
  {
   "cell_type": "code",
   "execution_count": 16,
   "metadata": {
    "colab": {
     "base_uri": "https://localhost:8080/"
    },
    "id": "-cdnJElt82xd",
    "outputId": "20e7dca8-aadd-48b9-e010-38bb4fad0f37"
   },
   "outputs": [
    {
     "data": {
      "text/plain": [
       "<70000x120207 sparse matrix of type '<class 'numpy.float64'>'\n",
       "\twith 1149185 stored elements in Compressed Sparse Row format>"
      ]
     },
     "execution_count": 16,
     "metadata": {},
     "output_type": "execute_result"
    }
   ],
   "source": [
    "from scipy.sparse import csr_matrix\n",
    "\n",
    "def prepare_tfidf(content_df, text_df, tfidf_vectorizer) -> csr_matrix:\n",
    "  # присоединяем текстовую информацию\n",
    "  ocr_dataset_train = (\n",
    "      content_df[['content_id']]\n",
    "      .merge(text_df, how='left')\n",
    "  )\n",
    "  # заполняем пропуски\n",
    "  ocr_dataset_train.text.fillna('', inplace=True)\n",
    "  # вычисляем tf-idf\n",
    "  ocr_features = tfidf_vectorizer.transform(ocr_dataset_train.text.values)\n",
    "\n",
    "  return ocr_features\n",
    "\n",
    "train_ocr_dataset = prepare_tfidf(train_df, ocr_dataset_df, vectorizer)\n",
    "train_ocr_dataset"
   ]
  },
  {
   "cell_type": "markdown",
   "metadata": {
    "id": "4-nvEM69-uA2"
   },
   "source": [
    "Обучаем модель"
   ]
  },
  {
   "cell_type": "code",
   "execution_count": 19,
   "metadata": {
    "colab": {
     "base_uri": "https://localhost:8080/"
    },
    "id": "sI8u5fNy-uRl",
    "outputId": "e23826c5-8a1e-4b4f-8c13-7cd7af904569"
   },
   "outputs": [
    {
     "name": "stdout",
     "output_type": "stream",
     "text": [
      "Модель обучена\n"
     ]
    }
   ],
   "source": [
    "from sklearn.linear_model import LogisticRegression\n",
    "\n",
    "\n",
    "log_reg = LogisticRegression(max_iter=500).fit(train_ocr_dataset, train_df['y'])\n",
    "print('Модель обучена')"
   ]
  },
  {
   "cell_type": "markdown",
   "metadata": {
    "id": "s4GfxNtvKAxW"
   },
   "source": [
    "проверяем качество на тестовом датасете - считаем метрики"
   ]
  },
  {
   "cell_type": "code",
   "execution_count": 20,
   "metadata": {
    "colab": {
     "base_uri": "https://localhost:8080/"
    },
    "id": "TJrY_51UJNCy",
    "outputId": "1d9e6f2c-8a24-4e09-f882-820df95d3724"
   },
   "outputs": [
    {
     "name": "stdout",
     "output_type": "stream",
     "text": [
      "Предсказания построены, accuracy = %.2f, f1_score = %.2f, recall_score = %.2f 0.7540666666666667 0.38639387890884896 0.6917808219178082\n"
     ]
    }
   ],
   "source": [
    "from sklearn.metrics import f1_score, accuracy_score, recall_score\n",
    "\n",
    "test_ocr_dataset = prepare_tfidf(test_df, ocr_dataset_df, vectorizer)\n",
    "\n",
    "predicted_classes = log_reg.predict(test_ocr_dataset)\n",
    "print(\n",
    "    'Предсказания построены, accuracy = %.2f, f1_score = %.2f, recall_score = %.2f',\n",
    "    accuracy_score(predicted_classes, test_df['y']),\n",
    "    f1_score(predicted_classes, test_df['y']),\n",
    "    recall_score(predicted_classes, test_df['y']),\n",
    ")"
   ]
  },
  {
   "cell_type": "markdown",
   "metadata": {
    "id": "p8UhBZQ-KOXm"
   },
   "source": [
    "получили очень низкое значение метрики, но т.к. бейзлайн то норм"
   ]
  },
  {
   "cell_type": "markdown",
   "metadata": {
    "id": "aqmSBx1yKU3d"
   },
   "source": [
    "# Modeling\n",
    "\n",
    "На этом этапе мы будем генерировать фичи и проверят, как улучшается модель\n",
    "\n",
    "## Улучшаем бейзлайн\n",
    "\n",
    "### Определяем категории, где ошиблись сильнее всего\n",
    "\n",
    "Этот трюк позволяет понять, какиех именно фичей не хватает в модели\n",
    "\n",
    "для начала смержим предикты с истинными метками"
   ]
  },
  {
   "cell_type": "code",
   "execution_count": null,
   "metadata": {
    "id": "7E8236fVKEak"
   },
   "outputs": [],
   "source": [
    "# false_negative_df = (\n",
    "#     pd.DataFrame({'pred': predicted_classes, 'ground_truth': y_test})\n",
    "#     .query(\"\"\"(pred==0) and (ground_truth==1)\"\"\")\n",
    "# )\n",
    "\n",
    "# false_negative_df.head(5)"
   ]
  },
  {
   "cell_type": "code",
   "execution_count": null,
   "metadata": {
    "colab": {
     "base_uri": "https://localhost:8080/",
     "height": 204
    },
    "id": "ER-H2YSOLfGk",
    "outputId": "4555c4ed-df86-426f-e71b-03c07520d2d2"
   },
   "outputs": [
    {
     "data": {
      "text/html": [
       "\n",
       "  <div id=\"df-a13eaf7d-6d99-46ac-97c5-53b2ef001d2d\">\n",
       "    <div class=\"colab-df-container\">\n",
       "      <div>\n",
       "<style scoped>\n",
       "    .dataframe tbody tr th:only-of-type {\n",
       "        vertical-align: middle;\n",
       "    }\n",
       "\n",
       "    .dataframe tbody tr th {\n",
       "        vertical-align: top;\n",
       "    }\n",
       "\n",
       "    .dataframe thead th {\n",
       "        text-align: right;\n",
       "    }\n",
       "</style>\n",
       "<table border=\"1\" class=\"dataframe\">\n",
       "  <thead>\n",
       "    <tr style=\"text-align: right;\">\n",
       "      <th></th>\n",
       "      <th>content_id</th>\n",
       "      <th>y</th>\n",
       "      <th>declined_reason</th>\n",
       "      <th>y_pred</th>\n",
       "    </tr>\n",
       "  </thead>\n",
       "  <tbody>\n",
       "    <tr>\n",
       "      <th>0</th>\n",
       "      <td>eVJrFpd</td>\n",
       "      <td>0.0</td>\n",
       "      <td>NaN</td>\n",
       "      <td>0.0</td>\n",
       "    </tr>\n",
       "    <tr>\n",
       "      <th>1</th>\n",
       "      <td>jBbWeAa</td>\n",
       "      <td>1.0</td>\n",
       "      <td>nudity_censored_genitals</td>\n",
       "      <td>0.0</td>\n",
       "    </tr>\n",
       "    <tr>\n",
       "      <th>2</th>\n",
       "      <td>DAwoTDw</td>\n",
       "      <td>0.0</td>\n",
       "      <td>NaN</td>\n",
       "      <td>0.0</td>\n",
       "    </tr>\n",
       "    <tr>\n",
       "      <th>3</th>\n",
       "      <td>MGNTXRW</td>\n",
       "      <td>0.0</td>\n",
       "      <td>NaN</td>\n",
       "      <td>0.0</td>\n",
       "    </tr>\n",
       "    <tr>\n",
       "      <th>4</th>\n",
       "      <td>kkkswci</td>\n",
       "      <td>1.0</td>\n",
       "      <td>tragedy_death_gore_injuries</td>\n",
       "      <td>0.0</td>\n",
       "    </tr>\n",
       "  </tbody>\n",
       "</table>\n",
       "</div>\n",
       "      <button class=\"colab-df-convert\" onclick=\"convertToInteractive('df-a13eaf7d-6d99-46ac-97c5-53b2ef001d2d')\"\n",
       "              title=\"Convert this dataframe to an interactive table.\"\n",
       "              style=\"display:none;\">\n",
       "        \n",
       "  <svg xmlns=\"http://www.w3.org/2000/svg\" height=\"24px\"viewBox=\"0 0 24 24\"\n",
       "       width=\"24px\">\n",
       "    <path d=\"M0 0h24v24H0V0z\" fill=\"none\"/>\n",
       "    <path d=\"M18.56 5.44l.94 2.06.94-2.06 2.06-.94-2.06-.94-.94-2.06-.94 2.06-2.06.94zm-11 1L8.5 8.5l.94-2.06 2.06-.94-2.06-.94L8.5 2.5l-.94 2.06-2.06.94zm10 10l.94 2.06.94-2.06 2.06-.94-2.06-.94-.94-2.06-.94 2.06-2.06.94z\"/><path d=\"M17.41 7.96l-1.37-1.37c-.4-.4-.92-.59-1.43-.59-.52 0-1.04.2-1.43.59L10.3 9.45l-7.72 7.72c-.78.78-.78 2.05 0 2.83L4 21.41c.39.39.9.59 1.41.59.51 0 1.02-.2 1.41-.59l7.78-7.78 2.81-2.81c.8-.78.8-2.07 0-2.86zM5.41 20L4 18.59l7.72-7.72 1.47 1.35L5.41 20z\"/>\n",
       "  </svg>\n",
       "      </button>\n",
       "      \n",
       "  <style>\n",
       "    .colab-df-container {\n",
       "      display:flex;\n",
       "      flex-wrap:wrap;\n",
       "      gap: 12px;\n",
       "    }\n",
       "\n",
       "    .colab-df-convert {\n",
       "      background-color: #E8F0FE;\n",
       "      border: none;\n",
       "      border-radius: 50%;\n",
       "      cursor: pointer;\n",
       "      display: none;\n",
       "      fill: #1967D2;\n",
       "      height: 32px;\n",
       "      padding: 0 0 0 0;\n",
       "      width: 32px;\n",
       "    }\n",
       "\n",
       "    .colab-df-convert:hover {\n",
       "      background-color: #E2EBFA;\n",
       "      box-shadow: 0px 1px 2px rgba(60, 64, 67, 0.3), 0px 1px 3px 1px rgba(60, 64, 67, 0.15);\n",
       "      fill: #174EA6;\n",
       "    }\n",
       "\n",
       "    [theme=dark] .colab-df-convert {\n",
       "      background-color: #3B4455;\n",
       "      fill: #D2E3FC;\n",
       "    }\n",
       "\n",
       "    [theme=dark] .colab-df-convert:hover {\n",
       "      background-color: #434B5C;\n",
       "      box-shadow: 0px 1px 3px 1px rgba(0, 0, 0, 0.15);\n",
       "      filter: drop-shadow(0px 1px 2px rgba(0, 0, 0, 0.3));\n",
       "      fill: #FFFFFF;\n",
       "    }\n",
       "  </style>\n",
       "\n",
       "      <script>\n",
       "        const buttonEl =\n",
       "          document.querySelector('#df-a13eaf7d-6d99-46ac-97c5-53b2ef001d2d button.colab-df-convert');\n",
       "        buttonEl.style.display =\n",
       "          google.colab.kernel.accessAllowed ? 'block' : 'none';\n",
       "\n",
       "        async function convertToInteractive(key) {\n",
       "          const element = document.querySelector('#df-a13eaf7d-6d99-46ac-97c5-53b2ef001d2d');\n",
       "          const dataTable =\n",
       "            await google.colab.kernel.invokeFunction('convertToInteractive',\n",
       "                                                     [key], {});\n",
       "          if (!dataTable) return;\n",
       "\n",
       "          const docLinkHtml = 'Like what you see? Visit the ' +\n",
       "            '<a target=\"_blank\" href=https://colab.research.google.com/notebooks/data_table.ipynb>data table notebook</a>'\n",
       "            + ' to learn more about interactive tables.';\n",
       "          element.innerHTML = '';\n",
       "          dataTable['output_type'] = 'display_data';\n",
       "          await google.colab.output.renderOutput(dataTable, element);\n",
       "          const docLink = document.createElement('div');\n",
       "          docLink.innerHTML = docLinkHtml;\n",
       "          element.appendChild(docLink);\n",
       "        }\n",
       "      </script>\n",
       "    </div>\n",
       "  </div>\n",
       "  "
      ],
      "text/plain": [
       "  content_id    y              declined_reason  y_pred\n",
       "0    eVJrFpd  0.0                          NaN     0.0\n",
       "1    jBbWeAa  1.0     nudity_censored_genitals     0.0\n",
       "2    DAwoTDw  0.0                          NaN     0.0\n",
       "3    MGNTXRW  0.0                          NaN     0.0\n",
       "4    kkkswci  1.0  tragedy_death_gore_injuries     0.0"
      ]
     },
     "execution_count": 54,
     "metadata": {},
     "output_type": "execute_result"
    }
   ],
   "source": [
    "prediction_df = (\n",
    "    test_df\n",
    "    .merge(input_dataset_df[['content_id', 'declined_reason']])\n",
    ")\n",
    "prediction_df['y_pred'] = predicted_classes\n",
    "\n",
    "prediction_df.head()"
   ]
  },
  {
   "cell_type": "markdown",
   "metadata": {
    "id": "M1vTx-vvD9Vq"
   },
   "source": [
    "Посмотрим на accuracy - как часто предсказанный класс отличается от истинного"
   ]
  },
  {
   "cell_type": "code",
   "execution_count": null,
   "metadata": {
    "colab": {
     "base_uri": "https://localhost:8080/"
    },
    "id": "RMIqagYlONnn",
    "outputId": "2cd4477a-e5d7-416b-a3af-972728abf33b"
   },
   "outputs": [
    {
     "name": "stdout",
     "output_type": "stream",
     "text": [
      "politics_religion: rows 3049, accuracy = 0.44, f1_score = 0.61\n",
      "racism: rows 1122, accuracy = 0.25, f1_score = 0.40\n",
      "lgbt_woman_jokes: rows 875, accuracy = 0.31, f1_score = 0.48\n",
      "not_safe_for_work: rows 743, accuracy = 0.04, f1_score = 0.08\n",
      "Political_Lite: rows 619, accuracy = 0.28, f1_score = 0.43\n",
      "tragedy_death_gore_injuries: rows 555, accuracy = 0.12, f1_score = 0.21\n",
      "watermark: rows 406, accuracy = 0.17, f1_score = 0.29\n",
      "call_to_harm: rows 379, accuracy = 0.06, f1_score = 0.11\n",
      "nudity_censored_genitals: rows 273, accuracy = 0.05, f1_score = 0.10\n",
      "moderation_mistake: rows 179, accuracy = 0.09, f1_score = 0.17\n",
      "clickbait: rows 138, accuracy = 0.06, f1_score = 0.11\n",
      "pedo: rows 136, accuracy = 0.12, f1_score = 0.21\n",
      "disabilities: rows 61, accuracy = 0.02, f1_score = 0.03\n",
      "bodily_fluids: rows 58, accuracy = 0.00, f1_score = 0.00\n",
      "school_shooting_fights: rows 29, accuracy = 0.07, f1_score = 0.13\n",
      "drugs: rows 26, accuracy = 0.08, f1_score = 0.14\n",
      "pepe: rows 12, accuracy = 0.17, f1_score = 0.29\n",
      "pity: rows 6, accuracy = 0.00, f1_score = 0.00\n"
     ]
    }
   ],
   "source": [
    "reason_accuracy = []\n",
    "for reason in prediction_df.declined_reason.value_counts().keys().to_list():\n",
    "  filtered_df = prediction_df[prediction_df['declined_reason']==reason]\n",
    "  print(\n",
    "      '%s: rows %d, accuracy = %.2f, f1_score = %.2f' % (\n",
    "      reason,\n",
    "      filtered_df.shape[0],\n",
    "      accuracy_score(filtered_df.y_pred, filtered_df.y),\n",
    "      f1_score(filtered_df.y_pred, filtered_df.y),\n",
    "  ))\n",
    "  reason_accuracy.append((reason, accuracy_score(filtered_df.y_pred, filtered_df.y)))"
   ]
  },
  {
   "cell_type": "markdown",
   "metadata": {
    "id": "NyvJDuGEUWzX"
   },
   "source": [
    "В табличном виде неудобно смотреть, применяем визуализацию"
   ]
  },
  {
   "cell_type": "code",
   "execution_count": null,
   "metadata": {
    "colab": {
     "base_uri": "https://localhost:8080/",
     "height": 428
    },
    "id": "WdDekZBHOlHC",
    "outputId": "40c922e8-adc1-4620-b94c-0ded28af1985"
   },
   "outputs": [
    {
     "data": {
      "text/plain": [
       "<matplotlib.axes._subplots.AxesSubplot at 0x7f0fc8037d50>"
      ]
     },
     "execution_count": 59,
     "metadata": {},
     "output_type": "execute_result"
    },
    {
     "data": {
      "image/png": "[encoded data removed]",
      "text/plain": [
       "<Figure size 432x288 with 1 Axes>"
      ]
     },
     "metadata": {
      "needs_background": "light"
     },
     "output_type": "display_data"
    }
   ],
   "source": [
    "from operator import itemgetter\n",
    "\n",
    "res =   (\n",
    "    pd.DataFrame(\n",
    "        sorted(reason_accuracy, key=itemgetter(1), reverse = True),\n",
    "        columns=['reason', 'accuracy']\n",
    "    )\n",
    ")\n",
    "res.plot(kind='bar', x='reason', y='accuracy')"
   ]
  },
  {
   "cell_type": "code",
   "execution_count": null,
   "metadata": {
    "colab": {
     "base_uri": "https://localhost:8080/",
     "height": 204
    },
    "id": "LsKZzspJHS9h",
    "outputId": "feccc7fd-0feb-48a1-d4d4-b53421b024a9"
   },
   "outputs": [
    {
     "data": {
      "text/html": [
       "\n",
       "  <div id=\"df-7d0c10b9-a037-4296-8126-d139d21cfa2d\">\n",
       "    <div class=\"colab-df-container\">\n",
       "      <div>\n",
       "<style scoped>\n",
       "    .dataframe tbody tr th:only-of-type {\n",
       "        vertical-align: middle;\n",
       "    }\n",
       "\n",
       "    .dataframe tbody tr th {\n",
       "        vertical-align: top;\n",
       "    }\n",
       "\n",
       "    .dataframe thead th {\n",
       "        text-align: right;\n",
       "    }\n",
       "</style>\n",
       "<table border=\"1\" class=\"dataframe\">\n",
       "  <thead>\n",
       "    <tr style=\"text-align: right;\">\n",
       "      <th></th>\n",
       "      <th>reason</th>\n",
       "      <th>accuracy</th>\n",
       "    </tr>\n",
       "  </thead>\n",
       "  <tbody>\n",
       "    <tr>\n",
       "      <th>17</th>\n",
       "      <td>pity</td>\n",
       "      <td>0.000000</td>\n",
       "    </tr>\n",
       "    <tr>\n",
       "      <th>16</th>\n",
       "      <td>bodily_fluids</td>\n",
       "      <td>0.000000</td>\n",
       "    </tr>\n",
       "    <tr>\n",
       "      <th>15</th>\n",
       "      <td>disabilities</td>\n",
       "      <td>0.016393</td>\n",
       "    </tr>\n",
       "    <tr>\n",
       "      <th>14</th>\n",
       "      <td>not_safe_for_work</td>\n",
       "      <td>0.041723</td>\n",
       "    </tr>\n",
       "    <tr>\n",
       "      <th>13</th>\n",
       "      <td>nudity_censored_genitals</td>\n",
       "      <td>0.051282</td>\n",
       "    </tr>\n",
       "  </tbody>\n",
       "</table>\n",
       "</div>\n",
       "      <button class=\"colab-df-convert\" onclick=\"convertToInteractive('df-7d0c10b9-a037-4296-8126-d139d21cfa2d')\"\n",
       "              title=\"Convert this dataframe to an interactive table.\"\n",
       "              style=\"display:none;\">\n",
       "        \n",
       "  <svg xmlns=\"http://www.w3.org/2000/svg\" height=\"24px\"viewBox=\"0 0 24 24\"\n",
       "       width=\"24px\">\n",
       "    <path d=\"M0 0h24v24H0V0z\" fill=\"none\"/>\n",
       "    <path d=\"M18.56 5.44l.94 2.06.94-2.06 2.06-.94-2.06-.94-.94-2.06-.94 2.06-2.06.94zm-11 1L8.5 8.5l.94-2.06 2.06-.94-2.06-.94L8.5 2.5l-.94 2.06-2.06.94zm10 10l.94 2.06.94-2.06 2.06-.94-2.06-.94-.94-2.06-.94 2.06-2.06.94z\"/><path d=\"M17.41 7.96l-1.37-1.37c-.4-.4-.92-.59-1.43-.59-.52 0-1.04.2-1.43.59L10.3 9.45l-7.72 7.72c-.78.78-.78 2.05 0 2.83L4 21.41c.39.39.9.59 1.41.59.51 0 1.02-.2 1.41-.59l7.78-7.78 2.81-2.81c.8-.78.8-2.07 0-2.86zM5.41 20L4 18.59l7.72-7.72 1.47 1.35L5.41 20z\"/>\n",
       "  </svg>\n",
       "      </button>\n",
       "      \n",
       "  <style>\n",
       "    .colab-df-container {\n",
       "      display:flex;\n",
       "      flex-wrap:wrap;\n",
       "      gap: 12px;\n",
       "    }\n",
       "\n",
       "    .colab-df-convert {\n",
       "      background-color: #E8F0FE;\n",
       "      border: none;\n",
       "      border-radius: 50%;\n",
       "      cursor: pointer;\n",
       "      display: none;\n",
       "      fill: #1967D2;\n",
       "      height: 32px;\n",
       "      padding: 0 0 0 0;\n",
       "      width: 32px;\n",
       "    }\n",
       "\n",
       "    .colab-df-convert:hover {\n",
       "      background-color: #E2EBFA;\n",
       "      box-shadow: 0px 1px 2px rgba(60, 64, 67, 0.3), 0px 1px 3px 1px rgba(60, 64, 67, 0.15);\n",
       "      fill: #174EA6;\n",
       "    }\n",
       "\n",
       "    [theme=dark] .colab-df-convert {\n",
       "      background-color: #3B4455;\n",
       "      fill: #D2E3FC;\n",
       "    }\n",
       "\n",
       "    [theme=dark] .colab-df-convert:hover {\n",
       "      background-color: #434B5C;\n",
       "      box-shadow: 0px 1px 3px 1px rgba(0, 0, 0, 0.15);\n",
       "      filter: drop-shadow(0px 1px 2px rgba(0, 0, 0, 0.3));\n",
       "      fill: #FFFFFF;\n",
       "    }\n",
       "  </style>\n",
       "\n",
       "      <script>\n",
       "        const buttonEl =\n",
       "          document.querySelector('#df-7d0c10b9-a037-4296-8126-d139d21cfa2d button.colab-df-convert');\n",
       "        buttonEl.style.display =\n",
       "          google.colab.kernel.accessAllowed ? 'block' : 'none';\n",
       "\n",
       "        async function convertToInteractive(key) {\n",
       "          const element = document.querySelector('#df-7d0c10b9-a037-4296-8126-d139d21cfa2d');\n",
       "          const dataTable =\n",
       "            await google.colab.kernel.invokeFunction('convertToInteractive',\n",
       "                                                     [key], {});\n",
       "          if (!dataTable) return;\n",
       "\n",
       "          const docLinkHtml = 'Like what you see? Visit the ' +\n",
       "            '<a target=\"_blank\" href=https://colab.research.google.com/notebooks/data_table.ipynb>data table notebook</a>'\n",
       "            + ' to learn more about interactive tables.';\n",
       "          element.innerHTML = '';\n",
       "          dataTable['output_type'] = 'display_data';\n",
       "          await google.colab.output.renderOutput(dataTable, element);\n",
       "          const docLink = document.createElement('div');\n",
       "          docLink.innerHTML = docLinkHtml;\n",
       "          element.appendChild(docLink);\n",
       "        }\n",
       "      </script>\n",
       "    </div>\n",
       "  </div>\n",
       "  "
      ],
      "text/plain": [
       "                      reason  accuracy\n",
       "17                      pity  0.000000\n",
       "16             bodily_fluids  0.000000\n",
       "15              disabilities  0.016393\n",
       "14         not_safe_for_work  0.041723\n",
       "13  nudity_censored_genitals  0.051282"
      ]
     },
     "execution_count": 62,
     "metadata": {},
     "output_type": "execute_result"
    }
   ],
   "source": [
    "res.sort_values(by='accuracy').head()"
   ]
  },
  {
   "cell_type": "markdown",
   "metadata": {
    "id": "7VGViILwYHN8"
   },
   "source": [
    "Выявили категории, с которыми плохо справляется модель\n",
    "\n",
    "* `nudity_censored_genitals`\n",
    "* `school_shooting_fights`\n",
    "* `not_safe_for_work`\n",
    "* `bodily_fluids`\n",
    "* `pity`\n",
    "\n",
    "Скорее всего несколько категорий по тексту предсказывать не получится - для этих категорий нужны какие-то картиночные фичи. Поэтому для улучшения качества мы можем пока удалить эти категории из разметки, раз уже текущее пространство фичей не позволяет качественно детектировать эти категории."
   ]
  },
  {
   "cell_type": "code",
   "execution_count": null,
   "metadata": {
    "colab": {
     "base_uri": "https://localhost:8080/",
     "height": 221
    },
    "id": "555V2wUbPuFa",
    "outputId": "df0fdd90-011e-4384-f96e-a7aa13a67526"
   },
   "outputs": [
    {
     "name": "stdout",
     "output_type": "stream",
     "text": [
      "Positive target share 0.2478\n"
     ]
    },
    {
     "data": {
      "text/html": [
       "\n",
       "  <div id=\"df-22bbd827-aa53-414f-b80a-5b8992713a42\">\n",
       "    <div class=\"colab-df-container\">\n",
       "      <div>\n",
       "<style scoped>\n",
       "    .dataframe tbody tr th:only-of-type {\n",
       "        vertical-align: middle;\n",
       "    }\n",
       "\n",
       "    .dataframe tbody tr th {\n",
       "        vertical-align: top;\n",
       "    }\n",
       "\n",
       "    .dataframe thead th {\n",
       "        text-align: right;\n",
       "    }\n",
       "</style>\n",
       "<table border=\"1\" class=\"dataframe\">\n",
       "  <thead>\n",
       "    <tr style=\"text-align: right;\">\n",
       "      <th></th>\n",
       "      <th>content_id</th>\n",
       "      <th>y</th>\n",
       "    </tr>\n",
       "  </thead>\n",
       "  <tbody>\n",
       "    <tr>\n",
       "      <th>17360</th>\n",
       "      <td>sAPMRvv</td>\n",
       "      <td>0.0</td>\n",
       "    </tr>\n",
       "    <tr>\n",
       "      <th>21747</th>\n",
       "      <td>sFPDDVs</td>\n",
       "      <td>1.0</td>\n",
       "    </tr>\n",
       "    <tr>\n",
       "      <th>3511</th>\n",
       "      <td>AVKiZCz</td>\n",
       "      <td>0.0</td>\n",
       "    </tr>\n",
       "    <tr>\n",
       "      <th>74731</th>\n",
       "      <td>dLsadCx</td>\n",
       "      <td>0.0</td>\n",
       "    </tr>\n",
       "    <tr>\n",
       "      <th>26309</th>\n",
       "      <td>bYUpRrz</td>\n",
       "      <td>0.0</td>\n",
       "    </tr>\n",
       "  </tbody>\n",
       "</table>\n",
       "</div>\n",
       "      <button class=\"colab-df-convert\" onclick=\"convertToInteractive('df-22bbd827-aa53-414f-b80a-5b8992713a42')\"\n",
       "              title=\"Convert this dataframe to an interactive table.\"\n",
       "              style=\"display:none;\">\n",
       "        \n",
       "  <svg xmlns=\"http://www.w3.org/2000/svg\" height=\"24px\"viewBox=\"0 0 24 24\"\n",
       "       width=\"24px\">\n",
       "    <path d=\"M0 0h24v24H0V0z\" fill=\"none\"/>\n",
       "    <path d=\"M18.56 5.44l.94 2.06.94-2.06 2.06-.94-2.06-.94-.94-2.06-.94 2.06-2.06.94zm-11 1L8.5 8.5l.94-2.06 2.06-.94-2.06-.94L8.5 2.5l-.94 2.06-2.06.94zm10 10l.94 2.06.94-2.06 2.06-.94-2.06-.94-.94-2.06-.94 2.06-2.06.94z\"/><path d=\"M17.41 7.96l-1.37-1.37c-.4-.4-.92-.59-1.43-.59-.52 0-1.04.2-1.43.59L10.3 9.45l-7.72 7.72c-.78.78-.78 2.05 0 2.83L4 21.41c.39.39.9.59 1.41.59.51 0 1.02-.2 1.41-.59l7.78-7.78 2.81-2.81c.8-.78.8-2.07 0-2.86zM5.41 20L4 18.59l7.72-7.72 1.47 1.35L5.41 20z\"/>\n",
       "  </svg>\n",
       "      </button>\n",
       "      \n",
       "  <style>\n",
       "    .colab-df-container {\n",
       "      display:flex;\n",
       "      flex-wrap:wrap;\n",
       "      gap: 12px;\n",
       "    }\n",
       "\n",
       "    .colab-df-convert {\n",
       "      background-color: #E8F0FE;\n",
       "      border: none;\n",
       "      border-radius: 50%;\n",
       "      cursor: pointer;\n",
       "      display: none;\n",
       "      fill: #1967D2;\n",
       "      height: 32px;\n",
       "      padding: 0 0 0 0;\n",
       "      width: 32px;\n",
       "    }\n",
       "\n",
       "    .colab-df-convert:hover {\n",
       "      background-color: #E2EBFA;\n",
       "      box-shadow: 0px 1px 2px rgba(60, 64, 67, 0.3), 0px 1px 3px 1px rgba(60, 64, 67, 0.15);\n",
       "      fill: #174EA6;\n",
       "    }\n",
       "\n",
       "    [theme=dark] .colab-df-convert {\n",
       "      background-color: #3B4455;\n",
       "      fill: #D2E3FC;\n",
       "    }\n",
       "\n",
       "    [theme=dark] .colab-df-convert:hover {\n",
       "      background-color: #434B5C;\n",
       "      box-shadow: 0px 1px 3px 1px rgba(0, 0, 0, 0.15);\n",
       "      filter: drop-shadow(0px 1px 2px rgba(0, 0, 0, 0.3));\n",
       "      fill: #FFFFFF;\n",
       "    }\n",
       "  </style>\n",
       "\n",
       "      <script>\n",
       "        const buttonEl =\n",
       "          document.querySelector('#df-22bbd827-aa53-414f-b80a-5b8992713a42 button.colab-df-convert');\n",
       "        buttonEl.style.display =\n",
       "          google.colab.kernel.accessAllowed ? 'block' : 'none';\n",
       "\n",
       "        async function convertToInteractive(key) {\n",
       "          const element = document.querySelector('#df-22bbd827-aa53-414f-b80a-5b8992713a42');\n",
       "          const dataTable =\n",
       "            await google.colab.kernel.invokeFunction('convertToInteractive',\n",
       "                                                     [key], {});\n",
       "          if (!dataTable) return;\n",
       "\n",
       "          const docLinkHtml = 'Like what you see? Visit the ' +\n",
       "            '<a target=\"_blank\" href=https://colab.research.google.com/notebooks/data_table.ipynb>data table notebook</a>'\n",
       "            + ' to learn more about interactive tables.';\n",
       "          element.innerHTML = '';\n",
       "          dataTable['output_type'] = 'display_data';\n",
       "          await google.colab.output.renderOutput(dataTable, element);\n",
       "          const docLink = document.createElement('div');\n",
       "          docLink.innerHTML = docLinkHtml;\n",
       "          element.appendChild(docLink);\n",
       "        }\n",
       "      </script>\n",
       "    </div>\n",
       "  </div>\n",
       "  "
      ],
      "text/plain": [
       "      content_id    y\n",
       "17360    sAPMRvv  0.0\n",
       "21747    sFPDDVs  1.0\n",
       "3511     AVKiZCz  0.0\n",
       "74731    dLsadCx  0.0\n",
       "26309    bYUpRrz  0.0"
      ]
     },
     "execution_count": 64,
     "metadata": {},
     "output_type": "execute_result"
    }
   ],
   "source": [
    "non_prediction_declined_reason = res.sort_values(by='accuracy').head(5)['reason'].to_list()\n",
    "\n",
    "input_dataset_df.loc[\n",
    "    input_dataset_df['declined_reason'].isin(non_prediction_declined_reason), 'featured_approval_content_declined'\n",
    "] = 0.0\n",
    "\n",
    "# т.к. таргет поменялся, нужно повторное разбиение\n",
    "train_df, test_df = split_dataset(input_dataset_df)\n",
    "\n",
    "train_df.head()"
   ]
  },
  {
   "cell_type": "markdown",
   "metadata": {
    "id": "OasIr9RWceYj"
   },
   "source": [
    "Прогоним ещё раз пайплайн\n",
    "\n",
    "* трансформация текста\n",
    "* пресказание\n",
    "* проверка качества"
   ]
  },
  {
   "cell_type": "code",
   "execution_count": null,
   "metadata": {
    "colab": {
     "base_uri": "https://localhost:8080/"
    },
    "id": "LSo86CZGP2hr",
    "outputId": "9a05bd6d-4c25-4482-cc5d-714ad9ee1211"
   },
   "outputs": [
    {
     "name": "stdout",
     "output_type": "stream",
     "text": [
      "Предсказания построены, accuracy = 0.79, f1_score = 0.41, recall_score = 0.68\n"
     ]
    }
   ],
   "source": [
    "train_ocr_dataset = prepare_tfidf(train_df, ocr_dataset_df, vectorizer)\n",
    "\n",
    "test_ocr_dataset = prepare_tfidf(test_df, ocr_dataset_df, vectorizer)\n",
    "log_reg = LogisticRegression(max_iter=500).fit(train_ocr_dataset, train_df['y'])\n",
    "\n",
    "predicted_classes = log_reg.predict(test_ocr_dataset)\n",
    "print(\n",
    "    'Предсказания построены, accuracy = %.2f, f1_score = %.2f, recall_score = %.2f' %(\n",
    "    accuracy_score(predicted_classes, test_df.y),\n",
    "    f1_score(predicted_classes, test_df.y),\n",
    "    recall_score(predicted_classes, test_df.y),\n",
    "))"
   ]
  },
  {
   "cell_type": "markdown",
   "metadata": {
    "id": "vVNekmiTei1c"
   },
   "source": [
    "Итого было\n",
    "```\n",
    "Предсказания построены, accuracy = 0.75, f1_score = 0.39, recall_score = 0.69\n",
    "```\n",
    "\n",
    "Стало\n",
    "```\n",
    "Предсказания построены, accuracy = 0.79, f1_score = 0.41, recall_score = 0.68\n",
    "```\n",
    "\n",
    "Мы увеличили качество модели, но это не совсем честное улучшение, т.к. мы просто перенеcли часть проблем в будущее (когда появится новые фичи)"
   ]
  },
  {
   "cell_type": "markdown",
   "metadata": {
    "id": "mHdJ6YJLe9mB"
   },
   "source": [
    "### Улучшаем препроцессинг данных\n",
    "\n",
    "Входные данные максимально влияют на качество алгоритма (вспоминаем принцип garbage in - garbage out).\n",
    "\n",
    "Наши входные данные - результат tf-idf, давайте попробуем улучшить из за счет фильтрации \"мусора\" "
   ]
  },
  {
   "cell_type": "code",
   "execution_count": null,
   "metadata": {
    "colab": {
     "base_uri": "https://localhost:8080/"
    },
    "id": "EpHfuAeFeiGX",
    "outputId": "1c484413-ba73-4337-c6ab-65a9b0f6a8a6"
   },
   "outputs": [
    {
     "name": "stdout",
     "output_type": "stream",
     "text": [
      "['000' '0000' '00000' '000000' '0000000' '000000000' '000000000133'\n",
      " '0000000h' '0000001650' '0000001750']\n"
     ]
    }
   ],
   "source": [
    "print(vectorizer.get_feature_names_out()[:10])"
   ]
  },
  {
   "cell_type": "markdown",
   "metadata": {
    "id": "BrEakbtBfyeW"
   },
   "source": [
    "Видно, что входные данные достаточно \"грязные\" воспользуемся небольшой эвристикой для улучшения датасета"
   ]
  },
  {
   "cell_type": "code",
   "execution_count": null,
   "metadata": {
    "colab": {
     "base_uri": "https://localhost:8080/"
    },
    "id": "IxW4TrwfeCO3",
    "outputId": "96191013-3b69-4119-ad09-aa1828a096d8"
   },
   "outputs": [
    {
     "name": "stdout",
     "output_type": "stream",
     "text": [
      "['000' '100' '1000' '101' '102' '103' '108' '109' '110' '120']\n"
     ]
    }
   ],
   "source": [
    "MIN_DOCS = 0.0005  # эвристика\n",
    "better_vectorizer = TfidfVectorizer(\n",
    "    analyzer='word', lowercase=True, token_pattern=r'\\b[\\w\\d]{3,}\\b', min_df=MIN_DOCS\n",
    ")\n",
    "\n",
    "ocr_features = better_vectorizer.fit(ocr_dataset_df.text.values)\n",
    "\n",
    "print(better_vectorizer.get_feature_names_out()[:10])"
   ]
  },
  {
   "cell_type": "markdown",
   "metadata": {
    "id": "LDwKW834gz2K"
   },
   "source": [
    "Кажется, данные стали более \"чистыми\". Проверим, как отреагировали метрики"
   ]
  },
  {
   "cell_type": "code",
   "execution_count": null,
   "metadata": {
    "colab": {
     "base_uri": "https://localhost:8080/"
    },
    "id": "Y5igoI_XgoIp",
    "outputId": "62a4cc70-766d-48f4-f734-da99b310117b"
   },
   "outputs": [
    {
     "name": "stdout",
     "output_type": "stream",
     "text": [
      "Предсказания построены, accuracy = 0.79, f1_score = 0.42, recall_score = 0.66\n"
     ]
    }
   ],
   "source": [
    "train_ocr_dataset = prepare_tfidf(train_df, ocr_dataset_df, better_vectorizer)\n",
    "log_reg = LogisticRegression(max_iter=500).fit(train_ocr_dataset, train_df['y'])\n",
    "\n",
    "test_ocr_dataset = prepare_tfidf(test_df, ocr_dataset_df, better_vectorizer)\n",
    "\n",
    "predicted_classes = log_reg.predict(test_ocr_dataset)\n",
    "print(\n",
    "    'Предсказания построены, accuracy = %.2f, f1_score = %.2f, recall_score = %.2f' % (\n",
    "    accuracy_score(predicted_classes, test_df.y),\n",
    "    f1_score(predicted_classes, test_df.y),\n",
    "    recall_score(predicted_classes, test_df.y),\n",
    "))"
   ]
  },
  {
   "cell_type": "markdown",
   "metadata": {
    "id": "49ChKE2ehYTh"
   },
   "source": [
    "Итого было\n",
    "```\n",
    "Предсказания построены, accuracy = 0.79, f1_score = 0.41, recall_score = 0.68\n",
    "```\n",
    "\n",
    "Стало\n",
    "```\n",
    "Предсказания построены, accuracy = 0.79, f1_score = 0.42, recall_score = 0.66\n",
    "```\n",
    "\n",
    "Отлично, удалось ещё немного улучшить качество.\n",
    "\n",
    "Подбирать параметры трансформации данных с помощью эвристик не самая хаорошая затея, лучше всего подбирать параметры данных на кросс-валидации"
   ]
  },
  {
   "cell_type": "markdown",
   "metadata": {
    "id": "BO59bw57ixk3"
   },
   "source": [
    "### Строим более сложную модель\n",
    "\n",
    "Итого у нас есть \"слабая\" модель которую хотим как-то улучшать. Из предыдущих лекций мы знаем, что наиболее сильная модель - это бустинг. Как с помощью бустинга улучшить результаты логистической регрегрессии? Можно построить двууровневую модель, такой приём называется стакинг (от англ. to stack)\n",
    "\n",
    "* на первом уровне делаем предсказание\n",
    "* на втором уровне используем предсказание как фичу\n",
    "\n",
    "Для этого нужно разбить тренировочный сет ещё на две части: часть используем для обучения логической регрессии, часть для бустинга\n",
    "\n",
    "Такая сложная схема нужна т.к. и логистическая регрессия, и бустинг обучаются на одном и том же таргете, поэтому если сначала обучить на всём датасете логистическую регрессию, а потом использовать её предсказания как вичу то получим т.н. лик в данных: ситуация, когда на этапе тренировки бустинга во входных данных уже будет присутствовать информация о таргете\n",
    "\n",
    "[two_level.png](https://drive.google.com/file/d/1NAHmUQDqfKXhFShn2-HbNcF1zNGJax2s/view?usp=sharing)"
   ]
  },
  {
   "cell_type": "code",
   "execution_count": null,
   "metadata": {
    "colab": {
     "base_uri": "https://localhost:8080/"
    },
    "id": "B4_jkt7ThJGB",
    "outputId": "8f5593b5-1f20-49b2-e423-fc7307df37b2"
   },
   "outputs": [
    {
     "name": "stdout",
     "output_type": "stream",
     "text": [
      "Positive target share 0.2478\n"
     ]
    }
   ],
   "source": [
    "def split_dataset_two_level(source_df: pd.DataFrame, valid_train_set_size = 0.3, boosting_train_set_size=0.6):\n",
    "  y = source_df.featured_approval_content_declined\n",
    "\n",
    "  content_ids = source_df['content_id']\n",
    "\n",
    "  x_train, x_test_ids, y_train, y_test = (\n",
    "      train_test_split(\n",
    "          content_ids, y, test_size=valid_train_set_size, random_state=RANDOM_SEED, stratify=y\n",
    "      )\n",
    "  )\n",
    "\n",
    "  x_train_logreg_ids, x_train_boosting_ids, y_train_logreg, y_train_boosting = (\n",
    "      train_test_split(\n",
    "          x_train, y_train, test_size=boosting_train_set_size, random_state=RANDOM_SEED, stratify=y_train\n",
    "      )\n",
    "  )\n",
    "\n",
    "  test_df = pd.DataFrame({'content_id': x_test_ids, 'y': y_test})\n",
    "  train_logreg_df = pd.DataFrame({'content_id': x_train_logreg_ids, 'y': y_train_logreg})\n",
    "  train_boosting_df = pd.DataFrame({'content_id': x_train_boosting_ids, 'y': y_train_boosting})\n",
    "  print('Positive target share %.4f' %  train_df['y'].value_counts(normalize=True)[1])\n",
    "\n",
    "  return train_logreg_df, train_boosting_df, test_df\n",
    "\n",
    "train_logreg_df, train_boosting_df, test_df = split_dataset_two_level(input_dataset_df)"
   ]
  },
  {
   "cell_type": "markdown",
   "metadata": {
    "id": "QptTdOppxzzQ"
   },
   "source": [
    "Для тренировки логистической регрессии получается меньше данных, проверим как это отразится на качестве"
   ]
  },
  {
   "cell_type": "code",
   "execution_count": null,
   "metadata": {
    "colab": {
     "base_uri": "https://localhost:8080/"
    },
    "id": "v99pIK4QhWys",
    "outputId": "de7327e4-014e-4f0d-8bc9-32c81e9b6922"
   },
   "outputs": [
    {
     "name": "stdout",
     "output_type": "stream",
     "text": [
      "Предсказания построены, accuracy = 0.78, f1_score = 0.38, recall_score = 0.66\n"
     ]
    }
   ],
   "source": [
    "train_ocr_dataset = prepare_tfidf(train_logreg_df, ocr_dataset_df, better_vectorizer)\n",
    "log_reg = LogisticRegression(max_iter=500).fit(train_ocr_dataset, train_logreg_df['y'])\n",
    "\n",
    "test_ocr_dataset = prepare_tfidf(test_df, ocr_dataset_df, better_vectorizer)\n",
    "\n",
    "predicted_classes = log_reg.predict(test_ocr_dataset)\n",
    "print(\n",
    "    'Предсказания построены, accuracy = %.2f, f1_score = %.2f, recall_score = %.2f' % (\n",
    "    accuracy_score(predicted_classes, test_df.y),\n",
    "    f1_score(predicted_classes, test_df.y),\n",
    "    recall_score(predicted_classes, test_df.y),\n",
    "))"
   ]
  },
  {
   "cell_type": "markdown",
   "metadata": {
    "id": "UhjXGx2NyS2E"
   },
   "source": [
    "Пока качество на тестовом датасете низкое - посмотрим, сможет ли бустинг исправить ситуацию"
   ]
  },
  {
   "cell_type": "code",
   "execution_count": null,
   "metadata": {
    "colab": {
     "base_uri": "https://localhost:8080/"
    },
    "id": "RbHr1lhsyEDM",
    "outputId": "4befaea2-54b0-42db-ad39-e9d4688a9cd2"
   },
   "outputs": [
    {
     "name": "stdout",
     "output_type": "stream",
     "text": [
      "in coll approved, 0.00181 NULL\n",
      "in coll hard_shotted, 0.00181 NULL\n",
      "in coll soft_shotted, 0.00181 NULL\n"
     ]
    }
   ],
   "source": [
    "from sklearn.ensemble import GradientBoostingClassifier\n",
    "\n",
    "def prepare_boosting(content_df, wide_dataset, text_df, tfidf_vectorizer, log_reg):\n",
    "  target = content_df['y']\n",
    "  boosting_df = content_df.drop('y', axis=1)\n",
    "\n",
    "  x_tfidf_train = prepare_tfidf(content_df, text_df, tfidf_vectorizer)\n",
    "\n",
    "  boosting_df = (\n",
    "      boosting_df\n",
    "      .merge(wide_dataset, how='inner')\n",
    "  )\n",
    "\n",
    "  boosting_df['action_rate'] = (\n",
    "        boosting_df['num_positve_actions'] / boosting_df['num_views']\n",
    "  )\n",
    "  boosting_df['comment_rate'] = (\n",
    "          boosting_df['num_comments'] / boosting_df['num_views']\n",
    "  )\n",
    "\n",
    "  boosting_df['logreg_positive_proba'] = log_reg.predict_proba(x_tfidf_train)[:, 1]\n",
    "  BOOSTING_COLUMNS = [\n",
    "    'action_rate', 'comment_rate', 'logreg_positive_proba',\n",
    "    'approved', 'hard_shotted', 'soft_shotted'\n",
    "  ]\n",
    "\n",
    "  # важная история про заполнение пропусков\n",
    "  for col in BOOSTING_COLUMNS:\n",
    "      try:\n",
    "          print(\n",
    "              'in coll %s, %.5f NULL' % (\n",
    "              col, boosting_df[col].isna().value_counts(normalize=True).loc[True]\n",
    "          ))\n",
    "          boosting_df[col].fillna(value=0.0, inplace=True)\n",
    "      except KeyError:\n",
    "          pass\n",
    "\n",
    "  return boosting_df[BOOSTING_COLUMNS], target\n",
    "\n",
    "boosting_df, target = prepare_boosting(\n",
    "    train_boosting_df, input_dataset_df, ocr_dataset_df, better_vectorizer, log_reg\n",
    ")\n",
    "\n",
    "logger.info('Train started')\n",
    "gb_clf = GradientBoostingClassifier().fit(boosting_df, target)\n",
    "logger.info('Train finished')"
   ]
  },
  {
   "cell_type": "markdown",
   "metadata": {
    "id": "VuK-YYMPAG0W"
   },
   "source": [
    "Формируем тестовый датасет и проверяем качество модели"
   ]
  },
  {
   "cell_type": "code",
   "execution_count": null,
   "metadata": {
    "colab": {
     "base_uri": "https://localhost:8080/"
    },
    "id": "Wtoeb15eAEya",
    "outputId": "a788cf0b-23b4-4547-f27a-1a6cb1021d71"
   },
   "outputs": [
    {
     "name": "stdout",
     "output_type": "stream",
     "text": [
      "in coll approved, 0.00177 NULL\n",
      "in coll hard_shotted, 0.00177 NULL\n",
      "in coll soft_shotted, 0.00177 NULL\n",
      "Предсказания построены, accuracy = 0.79, f1_score = 0.45, recall_score = 0.63\n"
     ]
    }
   ],
   "source": [
    "test_boosting_df, test_target = prepare_boosting(\n",
    "    test_df, input_dataset_df, ocr_dataset_df, better_vectorizer, log_reg\n",
    ")\n",
    "\n",
    "predicted_classes = gb_clf.predict(test_boosting_df)\n",
    "\n",
    "print(\n",
    "    'Предсказания построены, accuracy = %.2f, f1_score = %.2f, recall_score = %.2f' % (\n",
    "    accuracy_score(predicted_classes, test_df.y),\n",
    "    f1_score(predicted_classes, test_df.y),\n",
    "    recall_score(predicted_classes, test_df.y),\n",
    "))"
   ]
  },
  {
   "cell_type": "markdown",
   "metadata": {
    "id": "hG-UQ--tGONw"
   },
   "source": [
    "Это лучшее качество которое получили на логистической регрессии\n",
    "\n",
    "```\n",
    "Предсказания построены, accuracy = 0.78, f1_score = 0.38, recall_score = 0.66\n",
    "```\n",
    "\n",
    "Для двухуровневой модели с бустингом\n",
    "```\n",
    "Предсказания построены, accuracy = 0.79, f1_score = 0.45, recall_score = 0.63\n",
    "```\n",
    "\n",
    "У нас незначительно \"просел\" recall зато увеличился F1-скор\n",
    "\n",
    "Можно продолжать улучшать дальше:\n",
    "* закопаться в `feature engineering`\n",
    "* лучше очистить входные данные\n",
    "* потюнить параметры моделей"
   ]
  },
  {
   "cell_type": "code",
   "execution_count": null,
   "metadata": {
    "colab": {
     "base_uri": "https://localhost:8080/",
     "height": 396
    },
    "id": "oIbSmmZcAVkX",
    "outputId": "bbea456d-282e-47cd-d441-6e37bb445aa7"
   },
   "outputs": [
    {
     "data": {
      "text/plain": [
       "<matplotlib.axes._subplots.AxesSubplot at 0x7f0fc48913d0>"
      ]
     },
     "execution_count": 86,
     "metadata": {},
     "output_type": "execute_result"
    },
    {
     "data": {
      "image/png": "[encoded data removed]",
      "text/plain": [
       "<Figure size 432x288 with 1 Axes>"
      ]
     },
     "metadata": {
      "needs_background": "light"
     },
     "output_type": "display_data"
    }
   ],
   "source": [
    "from operator import itemgetter\n",
    "\n",
    "res =   (\n",
    "    pd.DataFrame(\n",
    "        sorted(zip(test_boosting_df.columns, gb_clf.feature_importances_), key=itemgetter(1), reverse = True),\n",
    "        columns=['feature', 'importance']\n",
    "    )\n",
    ")\n",
    "res.plot(kind='bar', x='feature', y='importance')"
   ]
  },
  {
   "cell_type": "code",
   "execution_count": null,
   "metadata": {
    "id": "cllWjH0bLEKF"
   },
   "outputs": [],
   "source": []
  }
 ],
 "metadata": {
  "colab": {
   "collapsed_sections": [],
   "provenance": []
  },
  "kernelspec": {
   "display_name": "Python 3 (ipykernel)",
   "language": "python",
   "name": "python3"
  },
  "language_info": {
   "codemirror_mode": {
    "name": "ipython",
    "version": 3
   },
   "file_extension": ".py",
   "mimetype": "text/x-python",
   "name": "python",
   "nbconvert_exporter": "python",
   "pygments_lexer": "ipython3",
   "version": "3.8.16"
  }
 },
 "nbformat": 4,
 "nbformat_minor": 1
}
