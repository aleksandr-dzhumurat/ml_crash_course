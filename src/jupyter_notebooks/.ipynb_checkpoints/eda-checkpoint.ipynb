{
 "cells": [
  {
   "cell_type": "code",
   "execution_count": 1,
   "id": "1849582e",
   "metadata": {},
   "outputs": [],
   "source": [
    "import matplotlib.pyplot as plt\n",
    "import pandas as pd\n",
    "\n",
    "import os\n",
    "import sqlite3\n",
    "import logging"
   ]
  },
  {
   "cell_type": "code",
   "execution_count": null,
   "id": "a7e41e61",
   "metadata": {},
   "outputs": [],
   "source": []
  },
  {
   "cell_type": "code",
   "execution_count": null,
   "id": "6d10d734",
   "metadata": {},
   "outputs": [],
   "source": []
  },
  {
   "cell_type": "code",
   "execution_count": null,
   "id": "31ec43dc",
   "metadata": {},
   "outputs": [],
   "source": []
  },
  {
   "cell_type": "code",
   "execution_count": null,
   "id": "beca08b6",
   "metadata": {},
   "outputs": [],
   "source": []
  },
  {
   "cell_type": "code",
   "execution_count": 2,
   "id": "afd5568e",
   "metadata": {},
   "outputs": [],
   "source": [
    "from src.utils import conf"
   ]
  },
  {
   "cell_type": "code",
   "execution_count": 3,
   "id": "1d34741a",
   "metadata": {},
   "outputs": [],
   "source": [
    "df = pd.read_csv(conf.raw_data_file)"
   ]
  },
  {
   "cell_type": "code",
   "execution_count": 4,
   "id": "450b776e",
   "metadata": {},
   "outputs": [
    {
     "data": {
      "text/plain": [
       "msg_id    6542\n",
       "msg       6542\n",
       "label     6542\n",
       "subset    6542\n",
       "dtype: int64"
      ]
     },
     "execution_count": 4,
     "metadata": {},
     "output_type": "execute_result"
    }
   ],
   "source": [
    "df.count()"
   ]
  },
  {
   "cell_type": "code",
   "execution_count": 5,
   "id": "43ca557e",
   "metadata": {},
   "outputs": [],
   "source": [
    "import texthero as hero"
   ]
  },
  {
   "cell_type": "code",
   "execution_count": 6,
   "id": "0bc14bbb",
   "metadata": {},
   "outputs": [],
   "source": [
    "from nltk.corpus import stopwords"
   ]
  },
  {
   "cell_type": "code",
   "execution_count": 7,
   "id": "2022f050",
   "metadata": {},
   "outputs": [],
   "source": [
    "import texthero as hero\n",
    "from nltk.corpus import stopwords\n",
    "\n",
    "def clear(messages):\n",
    "    result = pd.Series(messages).dropna()\n",
    "    result = result.astype(str).str.lower()\n",
    "    result = hero.remove_whitespace(result)\n",
    "    result = hero.remove_punctuation(result)\n",
    "    result = hero.remove_digits(result)\n",
    "    result = hero.remove_stopwords(result)\n",
    "    result = hero.remove_stopwords(result, stopwords.words(\"russian\"))\n",
    "    return result.values.astype('U')"
   ]
  },
  {
   "cell_type": "code",
   "execution_count": 8,
   "id": "092d2bf4",
   "metadata": {},
   "outputs": [
    {
     "data": {
      "text/html": [
       "<div>\n",
       "<style scoped>\n",
       "    .dataframe tbody tr th:only-of-type {\n",
       "        vertical-align: middle;\n",
       "    }\n",
       "\n",
       "    .dataframe tbody tr th {\n",
       "        vertical-align: top;\n",
       "    }\n",
       "\n",
       "    .dataframe thead th {\n",
       "        text-align: right;\n",
       "    }\n",
       "</style>\n",
       "<table border=\"1\" class=\"dataframe\">\n",
       "  <thead>\n",
       "    <tr style=\"text-align: right;\">\n",
       "      <th></th>\n",
       "      <th>msg_id</th>\n",
       "      <th>msg</th>\n",
       "      <th>label</th>\n",
       "      <th>subset</th>\n",
       "    </tr>\n",
       "  </thead>\n",
       "  <tbody>\n",
       "    <tr>\n",
       "      <th>0</th>\n",
       "      <td>0</td>\n",
       "      <td>здравствуйте. ишу 2х спальную квартиру в лимас...</td>\n",
       "      <td>0</td>\n",
       "      <td>train</td>\n",
       "    </tr>\n",
       "    <tr>\n",
       "      <th>1</th>\n",
       "      <td>1</td>\n",
       "      <td>#сниму  комнату в лимассоле или недалеко от не...</td>\n",
       "      <td>0</td>\n",
       "      <td>train</td>\n",
       "    </tr>\n",
       "    <tr>\n",
       "      <th>2</th>\n",
       "      <td>2</td>\n",
       "      <td>мошенник риэлторским услугам.</td>\n",
       "      <td>0</td>\n",
       "      <td>train</td>\n",
       "    </tr>\n",
       "    <tr>\n",
       "      <th>3</th>\n",
       "      <td>3</td>\n",
       "      <td>**sales**    reg.1053 lic.489/e **stylish apar...</td>\n",
       "      <td>0</td>\n",
       "      <td>train</td>\n",
       "    </tr>\n",
       "    <tr>\n",
       "      <th>4</th>\n",
       "      <td>4</td>\n",
       "      <td>важно: [valerii korol](tg://user?id=193474890)...</td>\n",
       "      <td>0</td>\n",
       "      <td>train</td>\n",
       "    </tr>\n",
       "  </tbody>\n",
       "</table>\n",
       "</div>"
      ],
      "text/plain": [
       "   msg_id                                                msg  label subset\n",
       "0       0  здравствуйте. ишу 2х спальную квартиру в лимас...      0  train\n",
       "1       1  #сниму  комнату в лимассоле или недалеко от не...      0  train\n",
       "2       2                      мошенник риэлторским услугам.      0  train\n",
       "3       3  **sales**    reg.1053 lic.489/e **stylish apar...      0  train\n",
       "4       4  важно: [valerii korol](tg://user?id=193474890)...      0  train"
      ]
     },
     "execution_count": 8,
     "metadata": {},
     "output_type": "execute_result"
    }
   ],
   "source": [
    "df.head()"
   ]
  },
  {
   "cell_type": "code",
   "execution_count": 9,
   "id": "19266564",
   "metadata": {},
   "outputs": [],
   "source": [
    "df[\"msg\"] = clear(df.msg)"
   ]
  },
  {
   "cell_type": "code",
   "execution_count": 10,
   "id": "3fe51b9a",
   "metadata": {},
   "outputs": [
    {
     "data": {
      "text/html": [
       "<div>\n",
       "<style scoped>\n",
       "    .dataframe tbody tr th:only-of-type {\n",
       "        vertical-align: middle;\n",
       "    }\n",
       "\n",
       "    .dataframe tbody tr th {\n",
       "        vertical-align: top;\n",
       "    }\n",
       "\n",
       "    .dataframe thead th {\n",
       "        text-align: right;\n",
       "    }\n",
       "</style>\n",
       "<table border=\"1\" class=\"dataframe\">\n",
       "  <thead>\n",
       "    <tr style=\"text-align: right;\">\n",
       "      <th></th>\n",
       "      <th>msg_id</th>\n",
       "      <th>msg</th>\n",
       "      <th>label</th>\n",
       "      <th>subset</th>\n",
       "    </tr>\n",
       "  </thead>\n",
       "  <tbody>\n",
       "    <tr>\n",
       "      <th>0</th>\n",
       "      <td>0</td>\n",
       "      <td>здравствуйте  ишу 2х спальную квартиру  лимасс...</td>\n",
       "      <td>0</td>\n",
       "      <td>train</td>\n",
       "    </tr>\n",
       "    <tr>\n",
       "      <th>1</th>\n",
       "      <td>1</td>\n",
       "      <td>сниму комнату  лимассоле  недалеко     начала...</td>\n",
       "      <td>0</td>\n",
       "      <td>train</td>\n",
       "    </tr>\n",
       "    <tr>\n",
       "      <th>2</th>\n",
       "      <td>2</td>\n",
       "      <td>мошенник риэлторским услугам</td>\n",
       "      <td>0</td>\n",
       "      <td>train</td>\n",
       "    </tr>\n",
       "    <tr>\n",
       "      <th>3</th>\n",
       "      <td>3</td>\n",
       "      <td>sales  reg   lic   e  stylish apartment  sea ...</td>\n",
       "      <td>0</td>\n",
       "      <td>train</td>\n",
       "    </tr>\n",
       "    <tr>\n",
       "      <th>4</th>\n",
       "      <td>4</td>\n",
       "      <td>важно   valerii korol tg user id       бот   с...</td>\n",
       "      <td>0</td>\n",
       "      <td>train</td>\n",
       "    </tr>\n",
       "  </tbody>\n",
       "</table>\n",
       "</div>"
      ],
      "text/plain": [
       "   msg_id                                                msg  label subset\n",
       "0       0  здравствуйте  ишу 2х спальную квартиру  лимасс...      0  train\n",
       "1       1   сниму комнату  лимассоле  недалеко     начала...      0  train\n",
       "2       2                      мошенник риэлторским услугам       0  train\n",
       "3       3   sales  reg   lic   e  stylish apartment  sea ...      0  train\n",
       "4       4  важно   valerii korol tg user id       бот   с...      0  train"
      ]
     },
     "execution_count": 10,
     "metadata": {},
     "output_type": "execute_result"
    }
   ],
   "source": [
    "df.head()"
   ]
  },
  {
   "cell_type": "code",
   "execution_count": 11,
   "id": "1f92fa6b",
   "metadata": {},
   "outputs": [],
   "source": [
    "def plot_internal(ax, name: str):\n",
    "    df.loc[df.subset == name, \"label\"].value_counts().plot.bar(ax=ax)\n",
    "    ax.set_title(name)\n",
    "    ax.set_xlabel(\"label\")\n",
    "    ax.set_ylabel(\"count\")\n",
    "\n",
    "def plot(df: pd.DataFrame, title: str):\n",
    "    fig, (ax1, ax2) = plt.subplots(nrows=1, ncols=2, figsize=(10, 4))\n",
    "\n",
    "    plot_internal(ax1, \"train\")\n",
    "    plot_internal(ax2, \"test\")\n",
    "    plt.suptitle(title)\n",
    "    plt.show(fig)"
   ]
  },
  {
   "cell_type": "code",
   "execution_count": 12,
   "id": "e4036a92",
   "metadata": {},
   "outputs": [
    {
     "data": {
      "image/png": "[encoded data removed]",
      "text/plain": [
       "<Figure size 1000x400 with 2 Axes>"
      ]
     },
     "metadata": {},
     "output_type": "display_data"
    }
   ],
   "source": [
    "plot(df, \"Cleared messages\")"
   ]
  },
  {
   "cell_type": "code",
   "execution_count": 13,
   "id": "45eca19b",
   "metadata": {},
   "outputs": [],
   "source": [
    "df.msg = df.msg.astype(str)\n",
    "df.to_csv('/srv/data/cleared_data_corpus.csv', index=False)"
   ]
  },
  {
   "cell_type": "code",
   "execution_count": 14,
   "id": "ca456616",
   "metadata": {
    "scrolled": true
   },
   "outputs": [
    {
     "data": {
      "text/html": [
       "<div>\n",
       "<style scoped>\n",
       "    .dataframe tbody tr th:only-of-type {\n",
       "        vertical-align: middle;\n",
       "    }\n",
       "\n",
       "    .dataframe tbody tr th {\n",
       "        vertical-align: top;\n",
       "    }\n",
       "\n",
       "    .dataframe thead th {\n",
       "        text-align: right;\n",
       "    }\n",
       "</style>\n",
       "<table border=\"1\" class=\"dataframe\">\n",
       "  <thead>\n",
       "    <tr style=\"text-align: right;\">\n",
       "      <th></th>\n",
       "      <th>msg_id</th>\n",
       "      <th>msg</th>\n",
       "      <th>label</th>\n",
       "      <th>subset</th>\n",
       "    </tr>\n",
       "  </thead>\n",
       "  <tbody>\n",
       "    <tr>\n",
       "      <th>0</th>\n",
       "      <td>0</td>\n",
       "      <td>здравствуйте  ишу 2х спальную квартиру  лимасс...</td>\n",
       "      <td>0</td>\n",
       "      <td>train</td>\n",
       "    </tr>\n",
       "    <tr>\n",
       "      <th>1</th>\n",
       "      <td>1</td>\n",
       "      <td>сниму комнату  лимассоле  недалеко     начала...</td>\n",
       "      <td>0</td>\n",
       "      <td>train</td>\n",
       "    </tr>\n",
       "    <tr>\n",
       "      <th>2</th>\n",
       "      <td>2</td>\n",
       "      <td>мошенник риэлторским услугам</td>\n",
       "      <td>0</td>\n",
       "      <td>train</td>\n",
       "    </tr>\n",
       "    <tr>\n",
       "      <th>3</th>\n",
       "      <td>3</td>\n",
       "      <td>sales  reg   lic   e  stylish apartment  sea ...</td>\n",
       "      <td>0</td>\n",
       "      <td>train</td>\n",
       "    </tr>\n",
       "    <tr>\n",
       "      <th>4</th>\n",
       "      <td>4</td>\n",
       "      <td>важно   valerii korol tg user id       бот   с...</td>\n",
       "      <td>0</td>\n",
       "      <td>train</td>\n",
       "    </tr>\n",
       "    <tr>\n",
       "      <th>...</th>\n",
       "      <td>...</td>\n",
       "      <td>...</td>\n",
       "      <td>...</td>\n",
       "      <td>...</td>\n",
       "    </tr>\n",
       "    <tr>\n",
       "      <th>6537</th>\n",
       "      <td>6537</td>\n",
       "      <td>продажа    спальная вилла лимасол  кипр  кало...</td>\n",
       "      <td>0</td>\n",
       "      <td>test</td>\n",
       "    </tr>\n",
       "    <tr>\n",
       "      <th>6538</th>\n",
       "      <td>6538</td>\n",
       "      <td>anastasia kikel tg user id     message  deleted</td>\n",
       "      <td>0</td>\n",
       "      <td>test</td>\n",
       "    </tr>\n",
       "    <tr>\n",
       "      <th>6539</th>\n",
       "      <td>6539</td>\n",
       "      <td>аренда пафос pano paphos совершенно новые   сп...</td>\n",
       "      <td>0</td>\n",
       "      <td>test</td>\n",
       "    </tr>\n",
       "    <tr>\n",
       "      <th>6540</th>\n",
       "      <td>6540</td>\n",
       "      <td>здравствуйте   дорогие друзья   ищу бизнес  пр...</td>\n",
       "      <td>0</td>\n",
       "      <td>test</td>\n",
       "    </tr>\n",
       "    <tr>\n",
       "      <th>6541</th>\n",
       "      <td>6541</td>\n",
       "      <td>ищем квартиру  пафосе  аренду  середины август...</td>\n",
       "      <td>0</td>\n",
       "      <td>test</td>\n",
       "    </tr>\n",
       "  </tbody>\n",
       "</table>\n",
       "<p>6542 rows × 4 columns</p>\n",
       "</div>"
      ],
      "text/plain": [
       "      msg_id                                                msg  label subset\n",
       "0          0  здравствуйте  ишу 2х спальную квартиру  лимасс...      0  train\n",
       "1          1   сниму комнату  лимассоле  недалеко     начала...      0  train\n",
       "2          2                      мошенник риэлторским услугам       0  train\n",
       "3          3   sales  reg   lic   e  stylish apartment  sea ...      0  train\n",
       "4          4  важно   valerii korol tg user id       бот   с...      0  train\n",
       "...      ...                                                ...    ...    ...\n",
       "6537    6537   продажа    спальная вилла лимасол  кипр  кало...      0   test\n",
       "6538    6538    anastasia kikel tg user id     message  deleted      0   test\n",
       "6539    6539  аренда пафос pano paphos совершенно новые   сп...      0   test\n",
       "6540    6540  здравствуйте   дорогие друзья   ищу бизнес  пр...      0   test\n",
       "6541    6541  ищем квартиру  пафосе  аренду  середины август...      0   test\n",
       "\n",
       "[6542 rows x 4 columns]"
      ]
     },
     "execution_count": 14,
     "metadata": {},
     "output_type": "execute_result"
    }
   ],
   "source": [
    "df"
   ]
  },
  {
   "cell_type": "code",
   "execution_count": null,
   "id": "4f7c0395",
   "metadata": {},
   "outputs": [],
   "source": []
  }
 ],
 "metadata": {
  "kernelspec": {
   "display_name": "Python 3 (ipykernel)",
   "language": "python",
   "name": "python3"
  },
  "language_info": {
   "codemirror_mode": {
    "name": "ipython",
    "version": 3
   },
   "file_extension": ".py",
   "mimetype": "text/x-python",
   "name": "python",
   "nbconvert_exporter": "python",
   "pygments_lexer": "ipython3",
   "version": "3.8.16"
  }
 },
 "nbformat": 4,
 "nbformat_minor": 5
}
